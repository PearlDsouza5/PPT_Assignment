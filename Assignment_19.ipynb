{
 "cells": [
  {
   "cell_type": "code",
   "execution_count": 1,
   "id": "ee8f30c5-28b6-4fff-bc3c-125c21d00521",
   "metadata": {},
   "outputs": [],
   "source": [
    "class Solution(object):\n",
    "    def mergeKLists(self, lists):\n",
    "        if not lists:\n",
    "            return None\n",
    "        if len(lists) == 1:\n",
    "            return lists[0]\n",
    "        mid = len(lists) // 2\n",
    "        l, r = self.mergeKLists(lists[:mid]), self.mergeKLists(lists[mid:])\n",
    "        return self.merge(l, r)\n",
    "    \n",
    "    def merge(self, l, r):\n",
    "        dummy = p = ListNode()\n",
    "        while l and r:\n",
    "            if l.val < r.val:\n",
    "                p.next = l\n",
    "                l = l.next\n",
    "            else:\n",
    "                p.next = r\n",
    "                r = r.next\n",
    "            p = p.next\n",
    "        p.next = l or r\n",
    "        return dummy.next\n",
    "    \n",
    "    def merge1(self, l, r):\n",
    "        if not l or not r:\n",
    "            return l or r\n",
    "        if l.val< r.val:\n",
    "            l.next = self.merge(l.next, r)\n",
    "            return l\n",
    "        r.next = self.merge(l, r.next)\n",
    "        return r"
   ]
  },
  {
   "cell_type": "code",
   "execution_count": 3,
   "id": "ee01f68c-f42a-4550-9dfe-402234e59275",
   "metadata": {},
   "outputs": [],
   "source": [
    "class BinaryIndexedTree:\n",
    "    def __init__(self, n):\n",
    "        self.n = n\n",
    "        self.c = [0] * (n + 1)\n",
    "\n",
    "    @staticmethod\n",
    "    def lowbit(x):\n",
    "        return x & -x\n",
    "\n",
    "    def update(self, x, delta):\n",
    "        while x <= self.n:\n",
    "            self.c[x] += delta\n",
    "            x += BinaryIndexedTree.lowbit(x)\n",
    "\n",
    "    def query(self, x):\n",
    "        s = 0\n",
    "        while x > 0:\n",
    "            s += self.c[x]\n",
    "            x -= BinaryIndexedTree.lowbit(x)\n",
    "        return s\n",
    "\n",
    "\n",
    "class Solution:\n",
    "    def countSmaller(self, nums: list[int]) -> list[int]:\n",
    "        alls = sorted(set(nums))\n",
    "        m = {v: i for i, v in enumerate(alls, 1)}\n",
    "        tree = BinaryIndexedTree(len(m))\n",
    "        ans = []\n",
    "        for v in nums[::-1]:\n",
    "            x = m[v]\n",
    "            tree.update(x, 1)\n",
    "            ans.append(tree.query(x - 1))\n",
    "        return ans[::-1]"
   ]
  },
  {
   "cell_type": "code",
   "execution_count": 4,
   "id": "551ed4d0-102b-4686-96d9-1ace6e460410",
   "metadata": {},
   "outputs": [
    {
     "data": {
      "text/plain": [
       "[2, 1, 1, 0]"
      ]
     },
     "execution_count": 4,
     "metadata": {},
     "output_type": "execute_result"
    }
   ],
   "source": [
    "s1 = Solution()\n",
    "s1.countSmaller([5,2,6,1])"
   ]
  },
  {
   "cell_type": "code",
   "execution_count": 12,
   "id": "94538925-7013-44d0-bf83-c1c6e2415e8d",
   "metadata": {},
   "outputs": [],
   "source": [
    "from collections import defaultdict\n",
    "class Solution:\n",
    "    def gcdSort(self, nums: list[int]) -> bool:\n",
    "        n = 10**5 + 10\n",
    "        p = list(range(n))\n",
    "        f = defaultdict(list)\n",
    "        mx = max(nums)\n",
    "        for i in range(2, mx + 1):\n",
    "            if f[i]:\n",
    "                continue\n",
    "            for j in range(i, mx + 1, i):\n",
    "                f[j].append(i)\n",
    "\n",
    "        def find(x):\n",
    "            if p[x] != x:\n",
    "                p[x] = find(p[x])\n",
    "            return p[x]\n",
    "\n",
    "        for i in nums:\n",
    "            for j in f[i]:\n",
    "                p[find(i)] = find(j)\n",
    "\n",
    "        s = sorted(nums)\n",
    "        for i, num in enumerate(nums):\n",
    "            if s[i] != num and find(num) != find(s[i]):\n",
    "                return s\n",
    "        return s"
   ]
  },
  {
   "cell_type": "code",
   "execution_count": 13,
   "id": "60fe99dc-4ce7-46de-9ffd-58420e7dcbb1",
   "metadata": {},
   "outputs": [
    {
     "data": {
      "text/plain": [
       "[1, 2, 3, 5]"
      ]
     },
     "execution_count": 13,
     "metadata": {},
     "output_type": "execute_result"
    }
   ],
   "source": [
    "s2 = Solution()\n",
    "s2.gcdSort([5,2,3,1])"
   ]
  },
  {
   "cell_type": "code",
   "execution_count": 19,
   "id": "10af7cfb-d6cd-4832-a8f7-f0ca77416d98",
   "metadata": {},
   "outputs": [],
   "source": [
    "class Solution1:\n",
    "    def moveZeroes(self, nums: list[int]) -> None:\n",
    "        i = -1\n",
    "        for j, x in enumerate(nums):\n",
    "            if x:\n",
    "                i += 1\n",
    "                nums[i], nums[j] = nums[j], nums[i]\n",
    "        return nums"
   ]
  },
  {
   "cell_type": "code",
   "execution_count": 20,
   "id": "35142cd3-a721-4421-9cd3-14adb6363851",
   "metadata": {},
   "outputs": [
    {
     "data": {
      "text/plain": [
       "[1, 2, 4, 3, 5, 0, 0, 0]"
      ]
     },
     "execution_count": 20,
     "metadata": {},
     "output_type": "execute_result"
    }
   ],
   "source": [
    "s3 = Solution1()\n",
    "s3.moveZeroes([1, 2, 0, 4, 3, 0, 5, 0])"
   ]
  },
  {
   "cell_type": "code",
   "execution_count": 26,
   "id": "0cab57d4-330b-4249-9199-628044104dc4",
   "metadata": {},
   "outputs": [
    {
     "name": "stdout",
     "output_type": "stream",
     "text": [
      "Given Array is:\n",
      "[1, 2, 3, -4, -1, 4]\n",
      "\n",
      "Rearranged array is:\n",
      "[-4, 1, -1, 2, 3, 4]\n"
     ]
    }
   ],
   "source": [
    "\n",
    "\n",
    "def rightRotate(arr, n, outOfPlace, cur):\n",
    "\ttemp = arr[cur]\n",
    "\tfor i in range(cur, outOfPlace, -1):\n",
    "\t\tarr[i] = arr[i - 1]\n",
    "\tarr[outOfPlace] = temp\n",
    "\treturn arr\n",
    "\n",
    "\n",
    "def rearrange(arr, n):\n",
    "\toutOfPlace = -1\n",
    "\tfor index in range(n):\n",
    "\t\tif(outOfPlace >= 0):\n",
    "\n",
    "\t\t\t\n",
    "\t\t\n",
    "\t\t\tif((arr[index] >= 0 and arr[outOfPlace] < 0) or\n",
    "\t\t\t(arr[index] < 0 and arr[outOfPlace] >= 0)):\n",
    "\t\t\t\tarr = rightRotate(arr, n, outOfPlace, index)\n",
    "\t\t\t\tif(index-outOfPlace > 2):\n",
    "\t\t\t\t\toutOfPlace += 2\n",
    "\t\t\t\telse:\n",
    "\t\t\t\t\toutOfPlace = - 1\n",
    "\n",
    "\t\tif(outOfPlace == -1):\n",
    "\n",
    "\t\t\n",
    "\t\t\tif((arr[index] >= 0 and index % 2 == 0) or\n",
    "\t\t\t(arr[index] < 0 and index % 2 == 1)):\n",
    "\t\t\t\toutOfPlace = index\n",
    "\treturn arr\n",
    "\n",
    "\n",
    "arr = [1, 2, 3, -4, -1, 4]\n",
    "\n",
    "print(\"Given Array is:\")\n",
    "print(arr)\n",
    "\n",
    "print(\"\\nRearranged array is:\")\n",
    "print(rearrange(arr, len(arr)))\n",
    "\n"
   ]
  },
  {
   "cell_type": "code",
   "execution_count": 34,
   "id": "868a1a51-2e11-4cb8-a617-13513a3bebdd",
   "metadata": {},
   "outputs": [
    {
     "name": "stdout",
     "output_type": "stream",
     "text": [
      "Array after merging\n",
      "1 2 3 4 4 5 6 8 "
     ]
    }
   ],
   "source": [
    "\n",
    "def mergeArrays(arr1, arr2, n1, n2, arr3):\n",
    "\ti = 0\n",
    "\tj = 0\n",
    "\tk = 0\n",
    "\n",
    "\n",
    "\twhile(i < n1):\n",
    "\t\tarr3[k] = arr1[i]\n",
    "\t\tk += 1\n",
    "\t\ti += 1\n",
    "\n",
    "\n",
    "\twhile(j < n2):\n",
    "\t\tarr3[k] = arr2[j]\n",
    "\t\tk += 1\n",
    "\t\tj += 1\n",
    "\n",
    "\t\n",
    "\tarr3.sort()\n",
    "\n",
    "\n",
    "\n",
    "if __name__ == '__main__':\n",
    "\tarr1 = [1, 3, 4, 5]\n",
    "\tn1 = len(arr1)\n",
    "\n",
    "\tarr2 = [2, 4, 6, 8]\n",
    "\tn2 = len(arr2)\n",
    "\n",
    "\tarr3 = [0 for i in range(n1+n2)]\n",
    "\tmergeArrays(arr1, arr2, n1, n2, arr3)\n",
    "\n",
    "\tprint(\"Array after merging\")\n",
    "\tfor i in range(n1 + n2):\n",
    "\t\tprint(arr3[i], end=\" \")\n",
    "\n",
    "\n"
   ]
  },
  {
   "cell_type": "code",
   "execution_count": 38,
   "id": "fcb114a8-1039-44de-a16c-6c32abe4aea5",
   "metadata": {},
   "outputs": [],
   "source": [
    "class Solution7:\n",
    "    def intersection(self, nums1: list[int], nums2: list[int]) -> list[int]:\n",
    "        s = set(nums1)\n",
    "        res = set()\n",
    "        for num in nums2:\n",
    "            if num in s:\n",
    "                res.add(num)\n",
    "        return list(res)"
   ]
  },
  {
   "cell_type": "code",
   "execution_count": 39,
   "id": "cfa1fdfb-38de-45b7-8f12-f5541f5cda6e",
   "metadata": {},
   "outputs": [
    {
     "name": "stdout",
     "output_type": "stream",
     "text": [
      "[2]\n"
     ]
    }
   ],
   "source": [
    "s7 = Solution7()\n",
    "print(s7.intersection([1,2,2,1],[2,2]))"
   ]
  },
  {
   "cell_type": "code",
   "execution_count": 45,
   "id": "a8af4413-3ff0-4c2c-8665-29eb9a0f04c1",
   "metadata": {},
   "outputs": [
    {
     "ename": "IndentationError",
     "evalue": "expected an indented block after 'if' statement on line 10 (2740066530.py, line 11)",
     "output_type": "error",
     "traceback": [
      "\u001b[0;36m  Cell \u001b[0;32mIn [45], line 11\u001b[0;36m\u001b[0m\n\u001b[0;31m    ans.append(num)\u001b[0m\n\u001b[0m    ^\u001b[0m\n\u001b[0;31mIndentationError\u001b[0m\u001b[0;31m:\u001b[0m expected an indented block after 'if' statement on line 10\n"
     ]
    }
   ],
   "source": [
    "class Solution:\n",
    "    def intersect(self, nums1: List[int], nums2: List[int]) -> List[int]:\n",
    "        if len(nums1) > len(nums2):\n",
    "            return self.intersect(nums2, nums1)\n",
    "\n",
    "        ans = []\n",
    "        count = collections.Counter(nums1)\n",
    "\n",
    "        for num in nums2:\n",
    "            if count[num] > 0:\n",
    "            ans.append(num)\n",
    "            count[num] -= 1\n",
    "\n",
    "        return ans\n"
   ]
  },
  {
   "cell_type": "code",
   "execution_count": 42,
   "id": "15b0e189-d52b-405c-ab5f-8653de062f69",
   "metadata": {},
   "outputs": [
    {
     "name": "stdout",
     "output_type": "stream",
     "text": [
      "[2]\n"
     ]
    }
   ],
   "source": [
    "s8 = Solution8()\n",
    "print(s8.intersection([1,2,2,1],[2,2]))"
   ]
  },
  {
   "cell_type": "code",
   "execution_count": null,
   "id": "51eded4c-6108-4b90-bd94-1f63ccc2952c",
   "metadata": {},
   "outputs": [],
   "source": []
  }
 ],
 "metadata": {
  "kernelspec": {
   "display_name": "Python 3 (ipykernel)",
   "language": "python",
   "name": "python3"
  },
  "language_info": {
   "codemirror_mode": {
    "name": "ipython",
    "version": 3
   },
   "file_extension": ".py",
   "mimetype": "text/x-python",
   "name": "python",
   "nbconvert_exporter": "python",
   "pygments_lexer": "ipython3",
   "version": "3.10.6"
  }
 },
 "nbformat": 4,
 "nbformat_minor": 5
}
