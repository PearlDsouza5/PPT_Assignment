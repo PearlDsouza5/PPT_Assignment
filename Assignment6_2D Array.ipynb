{
 "cells": [
  {
   "cell_type": "code",
   "execution_count": 1,
   "id": "095349d4-3180-4141-a32a-fe0e6b013095",
   "metadata": {},
   "outputs": [],
   "source": [
    "class Solution:\n",
    "    def diStringMatch(self, s: str) -> list[int]:\n",
    "        n = len(s)\n",
    "        low, high = 0, n\n",
    "        ans = []\n",
    "        for i in range(n):\n",
    "            if s[i] == 'I':\n",
    "                ans.append(low)\n",
    "                low += 1\n",
    "            else:\n",
    "                ans.append(high)\n",
    "                high -= 1\n",
    "        ans.append(low)\n",
    "        return ans"
   ]
  },
  {
   "cell_type": "code",
   "execution_count": 3,
   "id": "61ea834e-c1d3-428f-86d7-cb9a1d46186b",
   "metadata": {},
   "outputs": [
    {
     "data": {
      "text/plain": [
       "[0, 4, 1, 3, 2]"
      ]
     },
     "execution_count": 3,
     "metadata": {},
     "output_type": "execute_result"
    }
   ],
   "source": [
    "s1 = Solution()\n",
    "s1.diStringMatch(\"IDID\")"
   ]
  },
  {
   "cell_type": "code",
   "execution_count": 6,
   "id": "0ed63ce2-88c9-41c6-bea4-0089d98f996a",
   "metadata": {},
   "outputs": [],
   "source": [
    "class Solution2:\n",
    "    def searchMatrix(self, matrix: list[list[int]], target: int) -> bool:\n",
    "        m, n = len(matrix), len(matrix[0])\n",
    "        left, right = 0, m * n - 1\n",
    "        while left < right:\n",
    "            mid = (left + right) >> 1\n",
    "            x, y = divmod(mid, n)\n",
    "            if matrix[x][y] >= target:\n",
    "                right = mid\n",
    "            else:\n",
    "                left = mid + 1\n",
    "        return matrix[left // n][left % n] == target"
   ]
  },
  {
   "cell_type": "code",
   "execution_count": 7,
   "id": "877a7244-f29e-44cb-9154-b478018e18e7",
   "metadata": {},
   "outputs": [
    {
     "data": {
      "text/plain": [
       "True"
      ]
     },
     "execution_count": 7,
     "metadata": {},
     "output_type": "execute_result"
    }
   ],
   "source": [
    "s2 = Solution2()\n",
    "s2.searchMatrix([[1,3,5,7],[10,11,16,20],[23,30,34,60]],3)"
   ]
  },
  {
   "cell_type": "code",
   "execution_count": 1,
   "id": "92d02ca8-863f-4892-8ad7-d83aece95581",
   "metadata": {},
   "outputs": [],
   "source": [
    "class Solution3:\n",
    "    def validMountainArray(self, arr: list[int]) -> bool:\n",
    "        n = len(arr)\n",
    "        if n < 3:\n",
    "            return False\n",
    "        l, r = 0, n - 1\n",
    "        while l + 1 < n - 1 and arr[l] < arr[l + 1]:\n",
    "            l += 1\n",
    "        while r - 1 > 0 and arr[r] < arr[r - 1]:\n",
    "            r -= 1\n",
    "        return l == r"
   ]
  },
  {
   "cell_type": "code",
   "execution_count": 2,
   "id": "9a46bd72-feb1-4925-bf63-3f3c1ec1f0ff",
   "metadata": {},
   "outputs": [
    {
     "data": {
      "text/plain": [
       "False"
      ]
     },
     "execution_count": 2,
     "metadata": {},
     "output_type": "execute_result"
    }
   ],
   "source": [
    "s3 = Solution3()\n",
    "s3.validMountainArray([2,1])"
   ]
  },
  {
   "cell_type": "code",
   "execution_count": 3,
   "id": "e7f5eb2b-a31e-4b58-a431-bb995fb5da0a",
   "metadata": {},
   "outputs": [],
   "source": [
    "class Solution4:\n",
    "    def findMaxLength(self, nums: list[int]) -> int:\n",
    "        s = ans = 0\n",
    "        mp = {0: -1}\n",
    "        for i, v in enumerate(nums):\n",
    "            s += 1 if v == 1 else -1\n",
    "            if s in mp:\n",
    "                ans = max(ans, i - mp[s])\n",
    "            else:\n",
    "                mp[s] = i\n",
    "        return ans"
   ]
  },
  {
   "cell_type": "code",
   "execution_count": 4,
   "id": "bf305a9b-0a51-442b-8ba5-e69b6d44f756",
   "metadata": {},
   "outputs": [
    {
     "data": {
      "text/plain": [
       "2"
      ]
     },
     "execution_count": 4,
     "metadata": {},
     "output_type": "execute_result"
    }
   ],
   "source": [
    "s4 = Solution4()\n",
    "s4.findMaxLength([0,1])"
   ]
  },
  {
   "cell_type": "code",
   "execution_count": 5,
   "id": "3c1a52b8-dac3-4a52-b2a4-ab9587366d30",
   "metadata": {},
   "outputs": [],
   "source": [
    "class Solution5:\n",
    "    def minProductSum(self, nums1: list[int], nums2: list[int]) -> int:\n",
    "        nums1.sort()\n",
    "        nums2.sort()\n",
    "        n, res = len(nums1), 0\n",
    "        for i in range(n):\n",
    "            res += nums1[i] * nums2[n - i - 1]\n",
    "        return res"
   ]
  },
  {
   "cell_type": "code",
   "execution_count": 6,
   "id": "e99f25d3-56ea-4160-8a2a-08f47d64a828",
   "metadata": {},
   "outputs": [
    {
     "data": {
      "text/plain": [
       "40"
      ]
     },
     "execution_count": 6,
     "metadata": {},
     "output_type": "execute_result"
    }
   ],
   "source": [
    "s5 = Solution5()\n",
    "s5.minProductSum([5,3,4,2],[4,2,2,5])"
   ]
  },
  {
   "cell_type": "code",
   "execution_count": 9,
   "id": "869beb61-b35e-4d2b-8a29-e2d9bd32e5ba",
   "metadata": {},
   "outputs": [],
   "source": [
    "from collections import Counter\n",
    "class Solution6:\n",
    "    def findOriginalArray(self, changed: list[int]) -> list[int]:\n",
    "        n = len(changed)\n",
    "        if n & 1:\n",
    "            return []\n",
    "        cnt = Counter(changed)\n",
    "        changed.sort()\n",
    "        ans = []\n",
    "        for x in changed:\n",
    "            if cnt[x] == 0:\n",
    "                continue\n",
    "            if cnt[x * 2] <= 0:\n",
    "                return []\n",
    "            ans.append(x)\n",
    "            cnt[x] -= 1\n",
    "            cnt[x * 2] -= 1\n",
    "        return ans if len(ans) == n // 2 else []"
   ]
  },
  {
   "cell_type": "code",
   "execution_count": 10,
   "id": "1d74d9e9-fabf-4d17-a085-1d307314ed7b",
   "metadata": {},
   "outputs": [
    {
     "data": {
      "text/plain": [
       "[1, 3, 4]"
      ]
     },
     "execution_count": 10,
     "metadata": {},
     "output_type": "execute_result"
    }
   ],
   "source": [
    "s6 = Solution6()\n",
    "s6.findOriginalArray([1,3,4,2,6,8])"
   ]
  },
  {
   "cell_type": "code",
   "execution_count": 11,
   "id": "548d34c7-dfe5-4bcf-b672-32bf951c2740",
   "metadata": {},
   "outputs": [],
   "source": [
    "class Solution7:\n",
    "    def generateMatrix(self, n: int) -> list[list[int]]:\n",
    "        ans = [[0] * n for _ in range(n)]\n",
    "        dirs = ((0, 1), (1, 0), (0, -1), (-1, 0))\n",
    "        i = j = k = 0\n",
    "        for v in range(1, n * n + 1):\n",
    "            ans[i][j] = v\n",
    "            x, y = i + dirs[k][0], j + dirs[k][1]\n",
    "            if x < 0 or y < 0 or x >= n or y >= n or ans[x][y]:\n",
    "                k = (k + 1) % 4\n",
    "                x, y = i + dirs[k][0], j + dirs[k][1]\n",
    "            i, j = x, y\n",
    "        return ans"
   ]
  },
  {
   "cell_type": "code",
   "execution_count": 13,
   "id": "23eabe81-fab8-40b4-9321-322e3703ce53",
   "metadata": {},
   "outputs": [
    {
     "data": {
      "text/plain": [
       "[[1, 2, 3], [8, 9, 4], [7, 6, 5]]"
      ]
     },
     "execution_count": 13,
     "metadata": {},
     "output_type": "execute_result"
    }
   ],
   "source": [
    "s7 = Solution7()\n",
    "s7.generateMatrix(3)"
   ]
  },
  {
   "cell_type": "code",
   "execution_count": 14,
   "id": "0a0f8845-e6b7-4008-8049-e3768cd05511",
   "metadata": {},
   "outputs": [],
   "source": [
    "class Solution8:\n",
    "    def multiply(self, mat1: list[list[int]], mat2: list[list[int]]) -> list[list[int]]:\n",
    "        r1, c1, c2 = len(mat1), len(mat1[0]), len(mat2[0])\n",
    "        res = [[0] * c2 for _ in range(r1)]\n",
    "        for i in range(r1):\n",
    "            for j in range(c2):\n",
    "                for k in range(c1):\n",
    "                    res[i][j] += mat1[i][k] * mat2[k][j]\n",
    "        return res"
   ]
  },
  {
   "cell_type": "code",
   "execution_count": 15,
   "id": "96dc9286-2f52-4dd1-b912-f89f01f76ddc",
   "metadata": {},
   "outputs": [
    {
     "data": {
      "text/plain": [
       "[[7, 0, 0], [-7, 0, 3]]"
      ]
     },
     "execution_count": 15,
     "metadata": {},
     "output_type": "execute_result"
    }
   ],
   "source": [
    "s8 = Solution8()\n",
    "s8.multiply([[1,0,0],[-1,0,3]],[[7,0,0],[0,0,0],[0,0,1]])"
   ]
  },
  {
   "cell_type": "code",
   "execution_count": null,
   "id": "066ff773-aae4-4b70-ab8c-0cb110bf4dd5",
   "metadata": {},
   "outputs": [],
   "source": []
  }
 ],
 "metadata": {
  "kernelspec": {
   "display_name": "Python 3 (ipykernel)",
   "language": "python",
   "name": "python3"
  },
  "language_info": {
   "codemirror_mode": {
    "name": "ipython",
    "version": 3
   },
   "file_extension": ".py",
   "mimetype": "text/x-python",
   "name": "python",
   "nbconvert_exporter": "python",
   "pygments_lexer": "ipython3",
   "version": "3.10.6"
  }
 },
 "nbformat": 4,
 "nbformat_minor": 5
}
