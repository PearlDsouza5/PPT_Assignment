{
 "cells": [
  {
   "cell_type": "code",
   "execution_count": null,
   "id": "d0903167-1e2b-489b-95d6-6eaa887b0816",
   "metadata": {},
   "outputs": [],
   "source": [
    "#Given an integer array nums of 2n integers, group these integers into n pairs (a1, b1), (a2, b2),..., (an, bn) such that the sum of min(ai, bi) for all i is maximized. Return the maximized sum."
   ]
  },
  {
   "cell_type": "code",
   "execution_count": 2,
   "id": "6c05f8ee-0ffa-439d-8f20-ed624d344eda",
   "metadata": {},
   "outputs": [],
   "source": [
    "class Solutn1:\n",
    "    def arrayPairSum(self, nums: list[int]) -> int:\n",
    "        nums.sort()\n",
    "        r=0\n",
    "        for i in range(0,len(nums),2):\n",
    "            r+=min(nums[i],nums[i+1])\n",
    "        return(r)"
   ]
  },
  {
   "cell_type": "code",
   "execution_count": 3,
   "id": "ad23a345-6ec7-45a9-a37c-11395e005086",
   "metadata": {},
   "outputs": [
    {
     "data": {
      "text/plain": [
       "4"
      ]
     },
     "execution_count": 3,
     "metadata": {},
     "output_type": "execute_result"
    }
   ],
   "source": [
    "s1 = Solutn1()\n",
    "s1.arrayPairSum([1,4,3,2])"
   ]
  },
  {
   "cell_type": "code",
   "execution_count": null,
   "id": "166ec1f0-f884-42bb-aac7-c7320c1c85bf",
   "metadata": {},
   "outputs": [],
   "source": [
    "#Alice has n candies, where the ith candy is of type candyType[i]. Alice noticed that she started to gain weight, so she visited a doctor. \n",
    "#The doctor advised Alice to only eat n / 2 of the candies she has (n is always even). Alice likes her candies very much, and she wants to eat the maximum number of different types of candies while still following the doctor's advice. \n",
    "#Given the integer array candyType of length n, return the maximum number of different types of candies she can eat if she only eats n / 2 of them."
   ]
  },
  {
   "cell_type": "code",
   "execution_count": 4,
   "id": "2e732800-ecf6-4e1e-a2f6-66a6f8a55ad6",
   "metadata": {},
   "outputs": [],
   "source": [
    "class Solutn2:\n",
    "    def distributeCandies(self, candyType: list[int]) -> int:\n",
    "        return min(len(candyType) >> 1, len(set(candyType)))"
   ]
  },
  {
   "cell_type": "code",
   "execution_count": 5,
   "id": "fb34a033-9f69-4b29-b032-7b22467f1012",
   "metadata": {},
   "outputs": [
    {
     "data": {
      "text/plain": [
       "3"
      ]
     },
     "execution_count": 5,
     "metadata": {},
     "output_type": "execute_result"
    }
   ],
   "source": [
    "s2 = Solutn2()\n",
    "s2.distributeCandies([1,1,2,2,3,3])"
   ]
  },
  {
   "cell_type": "code",
   "execution_count": null,
   "id": "46bc9b6d-3f50-4855-ace4-6cc3cde4f8d5",
   "metadata": {},
   "outputs": [],
   "source": [
    "#We define a harmonious array as an array where the difference between its maximum value and its minimum value is exactly 1.\n",
    "#Given an integer array nums, return the length of its longest harmonious subsequence among all its possible subsequences.\n",
    "#A subsequence of an array is a sequence that can be derived from the array by deleting some or no elements without changing the order of the remaining elements."
   ]
  },
  {
   "cell_type": "code",
   "execution_count": 12,
   "id": "ef0c66f3-cd29-45ff-a393-3c07c18b839d",
   "metadata": {},
   "outputs": [],
   "source": [
    "from collections import Counter\n",
    "class Solutn3:\n",
    "    def findLHS(self, nums: list[int]) -> int:\n",
    "        counter = Counter(nums)\n",
    "        ans = 0\n",
    "        for num in nums:\n",
    "            if num + 1 in counter:\n",
    "                ans = max(ans, counter[num] + counter[num + 1])\n",
    "        return ans"
   ]
  },
  {
   "cell_type": "code",
   "execution_count": 13,
   "id": "fa45e902-efa3-4206-b05d-cbf7ae04f706",
   "metadata": {},
   "outputs": [
    {
     "data": {
      "text/plain": [
       "5"
      ]
     },
     "execution_count": 13,
     "metadata": {},
     "output_type": "execute_result"
    }
   ],
   "source": [
    "s3 = Solutn3()\n",
    "s3.findLHS([1,3,2,2,5,2,3,7])"
   ]
  },
  {
   "cell_type": "code",
   "execution_count": null,
   "id": "ffae0037-2c22-4d4f-8dda-fba0e0c80035",
   "metadata": {},
   "outputs": [],
   "source": [
    "#You have a long flowerbed in which some of the plots are planted, and some are not. However, flowers cannot be planted in adjacent plots.\n",
    "#Given an integer array flowerbed containing 0's and 1's, where 0 means empty and 1 means not empty, and an integer n, return true if n new flowers can be planted in the flowerbed without violating the no-adjacent-flowers rule and false otherwise."
   ]
  },
  {
   "cell_type": "code",
   "execution_count": 15,
   "id": "ab8b05a6-e9de-47ba-b7b7-e21b0b39f07a",
   "metadata": {},
   "outputs": [],
   "source": [
    "class Solutn4:\n",
    "    def canPlaceFlowers(self, flowerbed:list[int], n: int) -> bool:\n",
    "        flowerbed = [0] + flowerbed + [0]\n",
    "        for i in range(1, len(flowerbed) - 1):\n",
    "            if sum(flowerbed[i - 1 : i + 2]) == 0:\n",
    "                flowerbed[i] = 1\n",
    "                n -= 1\n",
    "        return n <= 0"
   ]
  },
  {
   "cell_type": "code",
   "execution_count": 16,
   "id": "5bac6aad-62c5-40e8-8947-d7c0cb75f62a",
   "metadata": {},
   "outputs": [
    {
     "data": {
      "text/plain": [
       "True"
      ]
     },
     "execution_count": 16,
     "metadata": {},
     "output_type": "execute_result"
    }
   ],
   "source": [
    "s4 = Solutn4()\n",
    "s4.canPlaceFlowers([1,0,0,0,1],1)"
   ]
  },
  {
   "cell_type": "code",
   "execution_count": null,
   "id": "81770c25-d78a-44e7-8f9d-8adfd192f495",
   "metadata": {},
   "outputs": [],
   "source": [
    "#Given an integer array nums, find three numbers whose product is maximum and return the maximum product."
   ]
  },
  {
   "cell_type": "code",
   "execution_count": 24,
   "id": "a9935c33-d883-481b-bd94-a1b046b23693",
   "metadata": {},
   "outputs": [],
   "source": [
    "import heapq as hq\n",
    "class Solutn5:\n",
    "    def maximumProduct(self, nums: list[int]) -> int:\n",
    "        top3 = hq.nlargest(3, nums)\n",
    "        bottom2 = hq.nlargest(2, nums, key=lambda x: -x)\n",
    "        return max(top3[0] * top3[1] * top3[2], top3[0] * bottom2[0] * bottom2[1])"
   ]
  },
  {
   "cell_type": "code",
   "execution_count": 25,
   "id": "1b1a109a-5c0f-421e-8de3-ce00a8227fc1",
   "metadata": {},
   "outputs": [
    {
     "data": {
      "text/plain": [
       "6"
      ]
     },
     "execution_count": 25,
     "metadata": {},
     "output_type": "execute_result"
    }
   ],
   "source": [
    "s5 = Solutn5()\n",
    "s5.maximumProduct([1,2,3])"
   ]
  },
  {
   "cell_type": "code",
   "execution_count": 26,
   "id": "edcb4304-95af-45c2-a38f-3fa1a186ef14",
   "metadata": {},
   "outputs": [],
   "source": [
    "#Given an array of integers nums which is sorted in ascending order, and an integer target,\n",
    "#write a function to search target in nums. If target exists, then return its index. Otherwise,\n",
    "#return -1.\n"
   ]
  },
  {
   "cell_type": "code",
   "execution_count": 29,
   "id": "608596a1-7734-4ef3-9d98-2d65de14e4b4",
   "metadata": {},
   "outputs": [],
   "source": [
    "class Solutn6:\n",
    "    def search(self, nums: list[int], target: int) -> int:\n",
    "        l = 0\n",
    "        r = len(nums)-1\n",
    " \n",
    "        while l<=r:\n",
    "            m = l + (r-l)//2\n",
    "            if nums[m]>target:\n",
    "                r=m-1\n",
    "            elif nums[m]<target:\n",
    "                l=m+1\n",
    "            else:\n",
    "                return m\n",
    "        return -1"
   ]
  },
  {
   "cell_type": "code",
   "execution_count": 30,
   "id": "66b5e702-504f-4dfb-b84b-09b6aae9e8ab",
   "metadata": {},
   "outputs": [
    {
     "data": {
      "text/plain": [
       "4"
      ]
     },
     "execution_count": 30,
     "metadata": {},
     "output_type": "execute_result"
    }
   ],
   "source": [
    "s6 = Solutn6()\n",
    "s6.search( [-1,0,3,5,9,12],9)"
   ]
  },
  {
   "cell_type": "code",
   "execution_count": null,
   "id": "1d979bc4-c97e-4e2a-be0e-e1f21c14b264",
   "metadata": {},
   "outputs": [],
   "source": [
    "#An array is monotonic if it is either monotone increasing or monotone decreasing. An array nums is monotone increasing if for all i <= j, nums[i] <= nums[j]. An array nums is\n",
    "#monotone decreasing if for all i <= j, nums[i] >= nums[j].Given an integer array nums, return true if the given array is monotonic, or false otherwise."
   ]
  },
  {
   "cell_type": "code",
   "execution_count": 35,
   "id": "68f0772f-0a6c-4dc0-a959-96f7b925d6bb",
   "metadata": {},
   "outputs": [],
   "source": [
    "from itertools import pairwise\n",
    "class Solutn7:\n",
    "    def isMonotonic(self, nums: list[int]) -> bool:\n",
    "        incr = all(a <= b for a, b in pairwise(nums))\n",
    "        decr = all(a >= b for a, b in pairwise(nums))\n",
    "        return incr or decr"
   ]
  },
  {
   "cell_type": "code",
   "execution_count": 36,
   "id": "fef2ac11-5f07-49c3-a0ff-952ce07410ba",
   "metadata": {},
   "outputs": [
    {
     "data": {
      "text/plain": [
       "True"
      ]
     },
     "execution_count": 36,
     "metadata": {},
     "output_type": "execute_result"
    }
   ],
   "source": [
    "s7 = Solutn7()\n",
    "s7.isMonotonic( [1,2,2,3])"
   ]
  },
  {
   "cell_type": "code",
   "execution_count": null,
   "id": "881976ba-e707-463c-8499-4aede693a934",
   "metadata": {},
   "outputs": [],
   "source": [
    "#You are given an integer array nums and an integer k. In one operation, you can choose any index i where 0 <= i < nums.length and change nums[i] to nums[i] + x where x is an integer from the range [-k, k]. You can apply this operation at most once for each index i.\n",
    "#The score of nums is the difference between the maximum and minimum elements in nums. Return the minimum score of nums after applying the mentioned operation at most once for each index in it."
   ]
  },
  {
   "cell_type": "code",
   "execution_count": 58,
   "id": "dd82ef1b-c1b6-49dd-810b-67347dd3bbc7",
   "metadata": {},
   "outputs": [],
   "source": [
    "class Solutn8:\n",
    "    def getMaxSum(self,arr:list[int], k):\n",
    "        maxSum = 0\n",
    "        windowSum = 0\n",
    "        start = 0\n",
    "        for i in range(len(arr)):\n",
    "            windowSum += arr[i]\n",
    "            if ((i - start + 1) == k):\n",
    "                maxSum = max(maxSum, windowSum)\n",
    "                windowSum -= arr[start]\n",
    "                start += 1\n",
    "        return maxSum"
   ]
  },
  {
   "cell_type": "code",
   "execution_count": 64,
   "id": "0670929a-1173-4aae-b415-dfba9b0b9000",
   "metadata": {},
   "outputs": [
    {
     "data": {
      "text/plain": [
       "0"
      ]
     },
     "execution_count": 64,
     "metadata": {},
     "output_type": "execute_result"
    }
   ],
   "source": [
    "s8 = Solutn8()\n",
    "s8.getMaxSum([1],0)"
   ]
  },
  {
   "cell_type": "code",
   "execution_count": null,
   "id": "9486122e-2503-4808-9ed3-81831a1b201b",
   "metadata": {},
   "outputs": [],
   "source": []
  },
  {
   "cell_type": "code",
   "execution_count": null,
   "id": "78a2cf12-1758-43aa-a17e-26f8e1c27c0d",
   "metadata": {},
   "outputs": [],
   "source": []
  }
 ],
 "metadata": {
  "kernelspec": {
   "display_name": "Python 3 (ipykernel)",
   "language": "python",
   "name": "python3"
  },
  "language_info": {
   "codemirror_mode": {
    "name": "ipython",
    "version": 3
   },
   "file_extension": ".py",
   "mimetype": "text/x-python",
   "name": "python",
   "nbconvert_exporter": "python",
   "pygments_lexer": "ipython3",
   "version": "3.10.6"
  }
 },
 "nbformat": 4,
 "nbformat_minor": 5
}
