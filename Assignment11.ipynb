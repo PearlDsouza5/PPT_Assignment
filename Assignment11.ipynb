{
 "cells": [
  {
   "cell_type": "code",
   "execution_count": null,
   "id": "a10ae269-868c-4c4b-aced-3c63680ff50b",
   "metadata": {},
   "outputs": [],
   "source": [
    "Given a non-negative integer `x`, return *the square root of* `x` *rounded down to the nearest integer*. The returned integer should be **non-negative** as well.\n",
    "\n",
    "You **must not use** any built-in exponent function or operator.\n",
    "\n",
    "- For example, do not use `pow(x, 0.5)` in c++ or `x ** 0.5` in python."
   ]
  },
  {
   "cell_type": "code",
   "execution_count": null,
   "id": "9e959bef-5944-4df7-871d-f856242bd39d",
   "metadata": {},
   "outputs": [],
   "source": [
    "import math\n",
    "\n",
    "class Solution:\n",
    "  def mySqrt(self, x: int) -> int:\n",
    "    if x < 2:\n",
    "      return x # return x if it is 0 or 1\n",
    "\n",
    "    left, right = 2, x // 2 # initialize left and right pointers\n",
    "    pivot = 0\n",
    "    num = 0 # use int to store result of pivot * pivot to prevent overflow\n",
    "    while left <= right: # binary search for the square root\n",
    "      pivot = left + (right - left) // 2 # find the middle element\n",
    "      num = pivot * pivot\n",
    "      if num > x:\n",
    "        right = pivot - 1 # if pivot * pivot is greater than x, set right to pivot - 1\n",
    "      elif num < x:\n",
    "        left = pivot + 1 # if pivot * pivot is less than x, set left to pivot + 1\n",
    "      else:\n",
    "        return pivot # if pivot * pivot is equal to x, return pivot\n",
    "    return right # return right after the loop\n",
    "\n",
    "solution = Solution()\n",
    "\n",
    "input1 = 4\n",
    "expectedOutput1 = 2\n",
    "result1 = solution.mySqrt(input1)\n",
    "print(result1 == expectedOutput1) # Expected output: True\n",
    "\n",
    "input2 = 8\n",
    "expectedOutput2 = 2\n",
    "result2 = solution.mySqrt(input2)\n",
    "print(result2 == expectedOutput2) # Expected output: True\n",
    "\n",
    "input4 = 2\n",
    "expectedOutput4 = 1\n",
    "result4 = solution.mySqrt(input4)\n",
    "print(result4 == expectedOutput4) # Expected output: True\n",
    "\n",
    "input5 = 3\n",
    "expectedOutput5 = 1\n",
    "result5 = solution.mySqrt(input5)\n",
    "print(result5 == expectedOutput5) # Expected output: True\n",
    "\n",
    "input6 = 15\n",
    "expectedOutput6 = 3\n",
    "result6 = solution.mySqrt(input6)\n",
    "print(result6 == expectedOutput6) # Expected output: True\n"
   ]
  },
  {
   "cell_type": "code",
   "execution_count": null,
   "id": "9e4179b0-eb58-48b8-93f6-73e66f2d57ea",
   "metadata": {},
   "outputs": [],
   "source": [
    "A peak element is an element that is strictly greater than its neighbors.\n",
    "\n",
    "Given a **0-indexed** integer array `nums`, find a peak element, and return its index. If the array contains multiple peaks, return the index to **any of the peaks**.\n",
    "\n",
    "You may imagine that `nums[-1] = nums[n] = -∞`. In other words, an element is always considered to be strictly greater than a neighbor that is outside the array.\n",
    "\n",
    "You must write an algorithm that runs in `O(log n)` time."
   ]
  },
  {
   "cell_type": "code",
   "execution_count": null,
   "id": "79cdcb87-b94c-4cf4-8654-14ad39e7e423",
   "metadata": {},
   "outputs": [],
   "source": [
    "class Solution:\n",
    "    def findPeakElement(self, nums: List[int]) -> int:\n",
    "        left, right = 0, len(nums) - 1\n",
    "        while left < right:\n",
    "            mid = (left + right) >> 1\n",
    "            if nums[mid] > nums[mid + 1]:\n",
    "                right = mid\n",
    "            else:\n",
    "                left = mid + 1\n",
    "        return left"
   ]
  },
  {
   "cell_type": "code",
   "execution_count": null,
   "id": "7015b9bd-4913-4636-bec2-76895ce1ea15",
   "metadata": {},
   "outputs": [],
   "source": [
    "Given an array nums containing n distinct numbers in the range [0, n], return the only number in the range that is missing from the array."
   ]
  },
  {
   "cell_type": "code",
   "execution_count": null,
   "id": "30e0a619-92ec-4224-8308-e571a643141c",
   "metadata": {},
   "outputs": [],
   "source": [
    "def getMissingNumber(arr):\n",
    " \n",
    "    # get the array's length\n",
    "    n = len(arr)\n",
    " \n",
    "    # actual size is `n+1` since a number is missing from the list\n",
    "    m = n + 1\n",
    " \n",
    "    # get a sum of integers between 1 and `n+1`\n",
    "    total = m * (m + 1) // 2\n",
    " \n",
    "    # the missing number is the difference between the expected sum and\n",
    "    # the actual sum of integers in the list\n",
    "    return total - sum(arr)\n",
    " \n",
    " \n",
    "if __name__ == '__main__':\n",
    " \n",
    "    arr = [1, 2, 3, 4, 5, 7, 8, 9, 10]\n",
    " \n",
    "    print('The missing number is', getMissingNumber(arr))"
   ]
  },
  {
   "cell_type": "code",
   "execution_count": null,
   "id": "98c61de9-d901-4e23-abc6-05cf987c1cba",
   "metadata": {},
   "outputs": [],
   "source": [
    "Given an array of integers `nums` containing `n + 1` integers where each integer is in the range `[1, n]` inclusive.\n",
    "\n",
    "There is only **one repeated number** in `nums`, return *this repeated number*.\n",
    "\n",
    "You must solve the problem **without** modifying the array `nums` and uses only constant extra space."
   ]
  },
  {
   "cell_type": "code",
   "execution_count": null,
   "id": "1a75f562-4e60-4ca2-86cc-604f4c27e033",
   "metadata": {},
   "outputs": [],
   "source": [
    "from typing import List\n",
    "\n",
    "\n",
    "\n",
    "\n",
    "def findDuplicate(arr: List[int]) -> int:\n",
    "    n = len(arr)\n",
    "    arr.sort()\n",
    "    for i in range(n - 1):\n",
    "        if arr[i] == arr[i + 1]:\n",
    "            return arr[i]\n",
    "\n",
    "\n",
    "if __name__ == \"__main__\":\n",
    "    arr = [1, 3, 4, 2, 2]\n",
    "    print(\"The duplicate element is \", findDuplicate(arr))"
   ]
  },
  {
   "cell_type": "code",
   "execution_count": null,
   "id": "55fcbecd-4f88-4e26-b1d8-5f4fd834b955",
   "metadata": {},
   "outputs": [],
   "source": [
    "Given two integer arrays nums1 and nums2, return an array of their intersection. Each element in the result must be unique and you may return the result in any order."
   ]
  },
  {
   "cell_type": "code",
   "execution_count": null,
   "id": "1cdaf522-057f-4853-97a1-095166964f09",
   "metadata": {},
   "outputs": [],
   "source": [
    "public int[] intersect(int[] nums1, int[] nums2) {\n",
    "\n",
    "    Map<Integer, Integer> map = new HashMap<Integer, Integer>();\n",
    "\n",
    "    int maxSize = Math.min(nums1.length, nums2.length);\n",
    "    int[] result = new int[maxSize];\n",
    "    int size = 0;\n",
    "\n",
    "    for (int i : nums1) {\n",
    "        map.put(i, map.getOrDefault(i, 0) + 1);\n",
    "    }\n",
    "\n",
    "    for (int i : nums2) {\n",
    "        if (map.getOrDefault(i, 0) > 0) {\n",
    "            result[size++] = i;\n",
    "            map.put(i, map.get(i) - 1);\n",
    "        }\n",
    "    }\n",
    "\n",
    "    return Arrays.copyOf(result, size);\n",
    "\n",
    "}"
   ]
  },
  {
   "cell_type": "code",
   "execution_count": null,
   "id": "06d1ff60-b1c0-45bd-8fa2-135bfe0863f6",
   "metadata": {},
   "outputs": [],
   "source": [
    "Suppose an array of length `n` sorted in ascending order is **rotated** between `1` and `n` times. For example, the array `nums = [0,1,2,4,5,6,7]` might become:\n",
    "\n",
    "- `[4,5,6,7,0,1,2]` if it was rotated `4` times.\n",
    "- `[0,1,2,4,5,6,7]` if it was rotated `7` times.\n",
    "\n",
    "Notice that **rotating** an array `[a[0], a[1], a[2], ..., a[n-1]]` 1 time results in the array `[a[n-1], a[0], a[1], a[2], ..., a[n-2]]`.\n",
    "\n",
    "Given the sorted rotated array `nums` of **unique** elements, return *the minimum element of this array*.\n",
    "\n",
    "You must write an algorithm that runs in `O(log n) time.`"
   ]
  },
  {
   "cell_type": "code",
   "execution_count": null,
   "id": "9def9f01-fda1-40c8-b1da-721b67271aff",
   "metadata": {},
   "outputs": [],
   "source": [
    "class Solution:\n",
    "    def findMin(self, nums: List[int]) -> int:\n",
    "        if nums[0] <= nums[-1]:\n",
    "            return nums[0]\n",
    "        left, right = 0, len(nums) - 1\n",
    "        while left < right:\n",
    "            mid = (left + right) >> 1\n",
    "            if nums[0] <= nums[mid]:\n",
    "                left = mid + 1\n",
    "            else:\n",
    "                right = mid\n",
    "        return nums[left]"
   ]
  },
  {
   "cell_type": "code",
   "execution_count": null,
   "id": "bc5a2228-dc60-41c9-b8f6-0aa42f2c45b4",
   "metadata": {},
   "outputs": [],
   "source": []
  },
  {
   "cell_type": "code",
   "execution_count": null,
   "id": "1051d1e1-8387-47b8-a1f4-975b619e72c7",
   "metadata": {},
   "outputs": [],
   "source": []
  }
 ],
 "metadata": {
  "kernelspec": {
   "display_name": "Python 3 (ipykernel)",
   "language": "python",
   "name": "python3"
  },
  "language_info": {
   "codemirror_mode": {
    "name": "ipython",
    "version": 3
   },
   "file_extension": ".py",
   "mimetype": "text/x-python",
   "name": "python",
   "nbconvert_exporter": "python",
   "pygments_lexer": "ipython3",
   "version": "3.10.6"
  }
 },
 "nbformat": 4,
 "nbformat_minor": 5
}
