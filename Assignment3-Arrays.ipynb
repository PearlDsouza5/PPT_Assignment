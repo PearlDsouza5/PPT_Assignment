{
 "cells": [
  {
   "cell_type": "code",
   "execution_count": null,
   "id": "3cb73ef6-d09d-4515-bd3c-84db897501d4",
   "metadata": {},
   "outputs": [],
   "source": [
    "'''Given an integer array nums of length n and an integer target, find three integers\n",
    "in nums such that the sum is closest to the target.\n",
    "Return the sum of the three integers.\n",
    "'''"
   ]
  },
  {
   "cell_type": "code",
   "execution_count": 29,
   "id": "47022360-5ae6-4700-b1c5-3478bbc293d0",
   "metadata": {},
   "outputs": [],
   "source": [
    "class Solution:\n",
    "    def threeSumClosest(self, nums: list[int], target: int) -> int:\n",
    "        nums.sort()\n",
    "        n = len(nums)\n",
    "        ans = float('inf')\n",
    "        for i, v in enumerate(nums):\n",
    "            j, k = i + 1, n - 1\n",
    "            while j < k:\n",
    "                t = v + nums[j] + nums[k]\n",
    "                if t == target:\n",
    "                    return t\n",
    "                if abs(t - target) < abs(ans - target):\n",
    "                    ans = t\n",
    "                if t > target:\n",
    "                    k -= 1\n",
    "                else:\n",
    "                    j += 1\n",
    "        return ans"
   ]
  },
  {
   "cell_type": "code",
   "execution_count": 30,
   "id": "07944d66-2759-40f0-8b7b-359e39563713",
   "metadata": {},
   "outputs": [
    {
     "data": {
      "text/plain": [
       "2"
      ]
     },
     "execution_count": 30,
     "metadata": {},
     "output_type": "execute_result"
    }
   ],
   "source": [
    "s1 = Solution()\n",
    "s1.threeSumClosest([-1,2,1,-4],1)"
   ]
  },
  {
   "cell_type": "code",
   "execution_count": null,
   "id": "57012e72-e286-442f-a9be-e29475f44cdf",
   "metadata": {},
   "outputs": [],
   "source": [
    "'''Given an array nums of n integers, return an array of all the unique quadruplets\n",
    "[nums[a], nums[b], nums[c], nums[d]] such that:\n",
    "           ● 0 <= a, b, c, d < n\n",
    "           ● a, b, c, and d are distinct.\n",
    "           ● nums[a] + nums[b] + nums[c] + nums[d] == target\n",
    "\n",
    "You may return the answer in any order.'''"
   ]
  },
  {
   "cell_type": "code",
   "execution_count": 39,
   "id": "84642d0d-e6ea-4687-ac8c-a8fe756cea20",
   "metadata": {},
   "outputs": [],
   "source": [
    "class Solution2:\n",
    "    def fourSum(self, nums: list[int], target: int) -> list[list[int]]:\n",
    "        n = len(nums)\n",
    "        ans = []\n",
    "        if n < 4:\n",
    "            return ans\n",
    "        nums.sort()\n",
    "        for i in range(n - 3):\n",
    "            if i and nums[i] == nums[i - 1]:\n",
    "                continue\n",
    "            for j in range(i + 1, n - 2):\n",
    "                if j > i + 1 and nums[j] == nums[j - 1]:\n",
    "                    continue\n",
    "                k, l = j + 1, n - 1\n",
    "                while k < l:\n",
    "                    x = nums[i] + nums[j] + nums[k] + nums[l]\n",
    "                    if x < target:\n",
    "                        k += 1\n",
    "                    elif x > target:\n",
    "                        l -= 1\n",
    "                    else:\n",
    "                        ans.append([nums[i], nums[j], nums[k], nums[l]])\n",
    "                        k, l = k + 1, l - 1\n",
    "                        while k < l and nums[k] == nums[k - 1]:\n",
    "                            k += 1\n",
    "                        while k < l and nums[l] == nums[l + 1]:\n",
    "                            l -= 1\n",
    "        return ans"
   ]
  },
  {
   "cell_type": "code",
   "execution_count": 37,
   "id": "a3e792b0-7c1e-4563-908d-c7bf99427a23",
   "metadata": {},
   "outputs": [
    {
     "data": {
      "text/plain": [
       "[[-2, -1, 1, 2], [-2, 0, 0, 2], [-1, 0, 0, 1]]"
      ]
     },
     "execution_count": 37,
     "metadata": {},
     "output_type": "execute_result"
    }
   ],
   "source": [
    "s2 = Solution2()\n",
    "s2.fourSum([1,0,-1,0,-2,2],0)"
   ]
  },
  {
   "cell_type": "code",
   "execution_count": null,
   "id": "36c35aad-0684-4dcb-9b04-ce1da641a0f7",
   "metadata": {},
   "outputs": [],
   "source": [
    "A permutation of an array of integers is an arrangement of its members into a\n",
    "sequence or linear order.\n"
   ]
  },
  {
   "cell_type": "code",
   "execution_count": 47,
   "id": "0b38e5c2-8dee-4807-b265-501c0c1615fa",
   "metadata": {},
   "outputs": [],
   "source": [
    "class Solution3:\n",
    "    def nextPermutation(self, nums: list[int]) -> None:\n",
    "        n = len(nums)\n",
    "        i = next((i for i in range(n - 2, -1, -1) if nums[i] < nums[i + 1]), -1)\n",
    "        if ~i:\n",
    "            j = next((j for j in range(n - 1, i, -1) if nums[j] > nums[i]))\n",
    "            nums[i], nums[j] = nums[j], nums[i]\n",
    "        nums[i + 1 :] = nums[i + 1 :][::-1]\n",
    "        return nums"
   ]
  },
  {
   "cell_type": "code",
   "execution_count": 48,
   "id": "b25cb2c3-af79-474e-9616-920f98f5645a",
   "metadata": {},
   "outputs": [
    {
     "data": {
      "text/plain": [
       "[1, 3, 2]"
      ]
     },
     "execution_count": 48,
     "metadata": {},
     "output_type": "execute_result"
    }
   ],
   "source": [
    "s3 = Solution3()\n",
    "s3.nextPermutation([1,2,3])"
   ]
  },
  {
   "cell_type": "code",
   "execution_count": null,
   "id": "f34d17e2-309e-40a9-a76b-fd78b5932df0",
   "metadata": {},
   "outputs": [],
   "source": [
    "Given a sorted array of distinct integers and a target value, return the index if the\n",
    "target is found. If not, return the index where it would be if it were inserted in\n",
    "order.\n"
   ]
  },
  {
   "cell_type": "code",
   "execution_count": 49,
   "id": "c3cf8418-bb04-4a88-806a-26767d104d11",
   "metadata": {},
   "outputs": [],
   "source": [
    "class Solution4:\n",
    "    def searchInsert(self, nums: list[int], target: int) -> int:\n",
    "        left, right = 0, len(nums)\n",
    "        while left < right:\n",
    "            mid = (left + right) >> 1\n",
    "            if nums[mid] >= target:\n",
    "                right = mid\n",
    "            else:\n",
    "                left = mid + 1\n",
    "        return left"
   ]
  },
  {
   "cell_type": "code",
   "execution_count": 50,
   "id": "47a8fd5e-7d78-453e-9a50-fb5c301a4139",
   "metadata": {},
   "outputs": [
    {
     "data": {
      "text/plain": [
       "2"
      ]
     },
     "execution_count": 50,
     "metadata": {},
     "output_type": "execute_result"
    }
   ],
   "source": [
    "s4 = Solution4()\n",
    "s4.searchInsert( [1,3,5,6],5)"
   ]
  },
  {
   "cell_type": "code",
   "execution_count": null,
   "id": "8831823a-07ab-484e-b21c-76d37535283a",
   "metadata": {},
   "outputs": [],
   "source": [
    "You are given a large integer represented as an integer array digits, where each\n",
    "digits[i] is the ith digit of the integer. The digits are ordered from most significant\n",
    "to least significant in left-to-right order. The large integer does not contain any\n",
    "leading 0's.\n"
   ]
  },
  {
   "cell_type": "code",
   "execution_count": 51,
   "id": "7913e375-3598-418d-965a-9db515dd360a",
   "metadata": {},
   "outputs": [],
   "source": [
    "class Solution5:\n",
    "    def plusOne(self, digits: list[int]) -> list[int]:\n",
    "        n = len(digits)\n",
    "        for i in range(n - 1, -1, -1):\n",
    "            digits[i] += 1\n",
    "            digits[i] %= 10\n",
    "            if digits[i] != 0:\n",
    "                return digits\n",
    "        return [1] + digits"
   ]
  },
  {
   "cell_type": "code",
   "execution_count": 52,
   "id": "26ae8943-b035-4e63-aa91-437d6d9c49cb",
   "metadata": {},
   "outputs": [
    {
     "data": {
      "text/plain": [
       "[1, 2, 4]"
      ]
     },
     "execution_count": 52,
     "metadata": {},
     "output_type": "execute_result"
    }
   ],
   "source": [
    "s5 = Solution5()\n",
    "s5.plusOne([1,2,3])"
   ]
  },
  {
   "cell_type": "code",
   "execution_count": null,
   "id": "ae1ab170-22f4-4bc4-9f01-7e278830f25c",
   "metadata": {},
   "outputs": [],
   "source": [
    "Question 6\n",
    "Given a non-empty array of integers nums, every element appears twice except\n",
    "for one. Find that single one."
   ]
  },
  {
   "cell_type": "code",
   "execution_count": 66,
   "id": "9e17470a-933b-47fe-92b8-b712b82053a3",
   "metadata": {},
   "outputs": [],
   "source": [
    "from functools import reduce \n",
    "from operator import xor\n",
    "class Solution6:\n",
    "    def singleNumber(self, nums: list[int]) -> int:\n",
    "        return reduce(xor, nums)"
   ]
  },
  {
   "cell_type": "code",
   "execution_count": 69,
   "id": "a0466803-bc8a-42a3-9a68-faa3a34abcf7",
   "metadata": {},
   "outputs": [
    {
     "data": {
      "text/plain": [
       "1"
      ]
     },
     "execution_count": 69,
     "metadata": {},
     "output_type": "execute_result"
    }
   ],
   "source": [
    "s6 = Solution6()\n",
    "s6.singleNumber([2,2,1])"
   ]
  },
  {
   "cell_type": "code",
   "execution_count": null,
   "id": "c77314c9-89f6-4b2d-97af-1820383be800",
   "metadata": {},
   "outputs": [],
   "source": [
    "You are given an inclusive range [lower, upper] and a sorted unique integer array\n",
    "nums, where all elements are within the inclusive range."
   ]
  },
  {
   "cell_type": "code",
   "execution_count": 77,
   "id": "ce822c60-6aee-4b07-9651-a256cef1153e",
   "metadata": {},
   "outputs": [],
   "source": [
    "from itertools import pairwise\n",
    "class Solution7:\n",
    "    def findMissingRanges(self, nums: list[int], lower: int, upper: int) -> list[str]:\n",
    "        def f(a, b):\n",
    "            return str(a) if a == b else f'{a}->{b}'\n",
    "\n",
    "        n = len(nums)\n",
    "        if n == 0:\n",
    "            return [f(lower, upper)]\n",
    "        ans = []\n",
    "        if nums[0] > lower:\n",
    "            ans.append(f(lower, nums[0] - 1))\n",
    "        for a, b in pairwise(nums):\n",
    "            if b - a > 1:\n",
    "                ans.append(f(a + 1, b - 1))\n",
    "        if nums[-1] < upper:\n",
    "            ans.append(f(nums[-1] + 1, upper))\n",
    "        return ans"
   ]
  },
  {
   "cell_type": "code",
   "execution_count": 78,
   "id": "a0f63320-c51c-4c0a-ba00-a6b6038c2847",
   "metadata": {},
   "outputs": [
    {
     "data": {
      "text/plain": [
       "['2', '4->49', '51->74', '76->99']"
      ]
     },
     "execution_count": 78,
     "metadata": {},
     "output_type": "execute_result"
    }
   ],
   "source": [
    "s7 = Solution7()\n",
    "s7.findMissingRanges([0,1,3,50,75],0,99)"
   ]
  },
  {
   "cell_type": "code",
   "execution_count": null,
   "id": "e4b51891-d67d-456b-a425-b9d1f6f41af3",
   "metadata": {},
   "outputs": [],
   "source": [
    "Given an array of meeting time intervals where intervals[i] = [starti, endi],\n",
    "determine if a person could attend all meetings."
   ]
  },
  {
   "cell_type": "code",
   "execution_count": 79,
   "id": "d01af7ec-6adb-4443-a39d-94050aa6321a",
   "metadata": {},
   "outputs": [],
   "source": [
    "class Solution8:\n",
    "    def canAttendMeetings(self, intervals: list[list[int]]) -> bool:\n",
    "        intervals.sort()\n",
    "        return all(a[1] <= b[0] for a, b in pairwise(intervals))"
   ]
  },
  {
   "cell_type": "code",
   "execution_count": 81,
   "id": "ad07c5fd-6f11-4158-8e67-1299e13c7d2a",
   "metadata": {},
   "outputs": [
    {
     "data": {
      "text/plain": [
       "False"
      ]
     },
     "execution_count": 81,
     "metadata": {},
     "output_type": "execute_result"
    }
   ],
   "source": [
    "s8 = Solution8()\n",
    "s8.canAttendMeetings([[0,30],[5,10],[15,20]])"
   ]
  },
  {
   "cell_type": "code",
   "execution_count": null,
   "id": "3f6d6ce0-e85b-4d11-a609-a2b00e701e72",
   "metadata": {},
   "outputs": [],
   "source": []
  }
 ],
 "metadata": {
  "kernelspec": {
   "display_name": "Python 3 (ipykernel)",
   "language": "python",
   "name": "python3"
  },
  "language_info": {
   "codemirror_mode": {
    "name": "ipython",
    "version": 3
   },
   "file_extension": ".py",
   "mimetype": "text/x-python",
   "name": "python",
   "nbconvert_exporter": "python",
   "pygments_lexer": "ipython3",
   "version": "3.10.6"
  }
 },
 "nbformat": 4,
 "nbformat_minor": 5
}
