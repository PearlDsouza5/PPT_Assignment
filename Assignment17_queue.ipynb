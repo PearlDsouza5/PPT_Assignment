{
 "cells": [
  {
   "cell_type": "code",
   "execution_count": 7,
   "id": "aaa869a5-e410-4777-a245-951dd1bb542b",
   "metadata": {},
   "outputs": [],
   "source": [
    "def firstNotRepeatingCharacter(s):\n",
    "    for c in s:\n",
    "        if s.index(c) == s.rindex(c):\n",
    "            return c\n",
    "    return '_'\n",
    " "
   ]
  },
  {
   "cell_type": "code",
   "execution_count": 8,
   "id": "376a4c79-3cc9-498e-932c-278a77ac9d75",
   "metadata": {},
   "outputs": [
    {
     "name": "stdout",
     "output_type": "stream",
     "text": [
      "v\n"
     ]
    }
   ],
   "source": [
    "print(firstNotRepeatingCharacter('loveleetcode'))"
   ]
  },
  {
   "cell_type": "code",
   "execution_count": 10,
   "id": "6a115560-a0da-45ed-a147-d1ae2a364990",
   "metadata": {},
   "outputs": [],
   "source": [
    "class Solution:\n",
    "    def maxSubarraySumCircular(self, nums: list[int]) -> int:\n",
    "        s1 = s2 = f1 = f2 = nums[0]\n",
    "        for num in nums[1:]:\n",
    "            f1 = num + max(f1, 0)\n",
    "            f2 = num + min(f2, 0)\n",
    "            s1 = max(s1, f1)\n",
    "            s2 = min(s2, f2)\n",
    "        return s1 if s1 <= 0 else max(s1, sum(nums) - s2)"
   ]
  },
  {
   "cell_type": "code",
   "execution_count": 11,
   "id": "1c352f25-af3e-4d51-bdbb-0381af62b6ba",
   "metadata": {},
   "outputs": [
    {
     "data": {
      "text/plain": [
       "3"
      ]
     },
     "execution_count": 11,
     "metadata": {},
     "output_type": "execute_result"
    }
   ],
   "source": [
    "s1=Solution()\n",
    "s1.maxSubarraySumCircular([1,-2,3,-2])"
   ]
  },
  {
   "cell_type": "code",
   "execution_count": null,
   "id": "b2472754-6331-4a13-98c4-fb9ec925a2fb",
   "metadata": {},
   "outputs": [],
   "source": [
    "from collections import Counter\n",
    "class Solution2:\n",
    "    def countStudents(self, students: list[int], sandwiches: list[int]) -> int:\n",
    "        cnt = Counter(students)\n",
    "        for v in sandwiches:\n",
    "            if cnt[v] == 0:\n",
    "                return cnt[v ^ 1]\n",
    "            cnt[v] -= 1\n",
    "        return 0"
   ]
  },
  {
   "cell_type": "code",
   "execution_count": 17,
   "id": "acca2bb9-eb00-4e89-aac2-759cb2bd63ce",
   "metadata": {},
   "outputs": [
    {
     "data": {
      "text/plain": [
       "0"
      ]
     },
     "execution_count": 17,
     "metadata": {},
     "output_type": "execute_result"
    }
   ],
   "source": [
    "s2=Solution2()\n",
    "s2.countStudents([1,1,0,0], [0,1,0,1])"
   ]
  },
  {
   "cell_type": "code",
   "execution_count": 33,
   "id": "961bf15b-dc69-48f7-9a15-ab30d554f5a5",
   "metadata": {},
   "outputs": [
    {
     "name": "stdout",
     "output_type": "stream",
     "text": [
      "1\n",
      "2\n",
      "3\n",
      "3\n"
     ]
    }
   ],
   "source": [
    "from collections import deque\n",
    "class RecentCounter:\n",
    "\n",
    "    def __init__(self):\n",
    "        self.q = deque()\n",
    "\n",
    "    def ping(self, t: int) -> int:\n",
    "        lb = t-3000\n",
    "        while len(self.q) and self.q[0] < lb:\n",
    "            self.q.popleft()\n",
    "        self.q.append(t)\n",
    "        return len(self.q)\n",
    "\n",
    "ob = RecentCounter()\n",
    "print(ob.ping(1))\n",
    "print(ob.ping(100))\n",
    "print(ob.ping(3001))\n",
    "print(ob.ping(3002))\n",
    "#print(ob.ping(3002))"
   ]
  },
  {
   "cell_type": "code",
   "execution_count": 36,
   "id": "49f6ef52-2889-4516-991a-9a166c4f4378",
   "metadata": {},
   "outputs": [],
   "source": [
    "class Solution5:\n",
    "    def findTheWinner(self, n: int, k: int) -> int:\n",
    "        if n == 1:\n",
    "            return 1\n",
    "        ans = (k + self.findTheWinner(n - 1, k)) % n\n",
    "        return n if ans == 0 else ans"
   ]
  },
  {
   "cell_type": "code",
   "execution_count": 37,
   "id": "372b92f8-13b1-42df-b47c-6a21ec2bd75f",
   "metadata": {},
   "outputs": [
    {
     "data": {
      "text/plain": [
       "1"
      ]
     },
     "execution_count": 37,
     "metadata": {},
     "output_type": "execute_result"
    }
   ],
   "source": [
    "s5=Solution5()\n",
    "s5.findTheWinner(6,5)"
   ]
  },
  {
   "cell_type": "code",
   "execution_count": 40,
   "id": "5346c879-3cab-4f39-8fc6-1959d458ca2b",
   "metadata": {},
   "outputs": [],
   "source": [
    "class Solution6:\n",
    "    def deckRevealedIncreasing(self, deck: list[int]) -> list[int]:\n",
    "        q = deque()\n",
    "        for v in sorted(deck, reverse=True):\n",
    "            if q:\n",
    "                q.appendleft(q.pop())\n",
    "            q.appendleft(v)\n",
    "        return list(q)"
   ]
  },
  {
   "cell_type": "code",
   "execution_count": 41,
   "id": "3f35a29a-b5c0-4977-af35-0699d6e8ba75",
   "metadata": {},
   "outputs": [
    {
     "data": {
      "text/plain": [
       "[2, 13, 3, 11, 5, 17, 7]"
      ]
     },
     "execution_count": 41,
     "metadata": {},
     "output_type": "execute_result"
    }
   ],
   "source": [
    "s6=Solution6()\n",
    "s6.deckRevealedIncreasing([17,13,11,2,3,5,7])"
   ]
  },
  {
   "cell_type": "code",
   "execution_count": 43,
   "id": "0391c190-1e49-4889-a2ad-e7dbb5dc598c",
   "metadata": {},
   "outputs": [],
   "source": [
    "class FrontMiddleBackQueue:\n",
    "    def __init__(self):\n",
    "        self.q1 = deque()\n",
    "        self.q2 = deque()\n",
    "\n",
    "    def pushFront(self, val: int) -> None:\n",
    "        self.q1.appendleft(val)\n",
    "        self.rebalance()\n",
    "\n",
    "    def pushMiddle(self, val: int) -> None:\n",
    "        self.q1.append(val)\n",
    "        self.rebalance()\n",
    "\n",
    "    def pushBack(self, val: int) -> None:\n",
    "        self.q2.append(val)\n",
    "        self.rebalance()\n",
    "\n",
    "    def popFront(self) -> int:\n",
    "        if not self.q1 and not self.q2:\n",
    "            return -1\n",
    "        if self.q1:\n",
    "            val = self.q1.popleft()\n",
    "        else:\n",
    "            val = self.q2.popleft()\n",
    "        self.rebalance()\n",
    "        return val\n",
    "\n",
    "    def popMiddle(self) -> int:\n",
    "        if not self.q1 and not self.q2:\n",
    "            return -1\n",
    "        if len(self.q1) == len(self.q2):\n",
    "            val = self.q1.pop()\n",
    "        else:\n",
    "            val = self.q2.popleft()\n",
    "        self.rebalance()\n",
    "        return val\n",
    "\n",
    "    def popBack(self) -> int:\n",
    "        if not self.q2:\n",
    "            return -1\n",
    "        val = self.q2.pop()\n",
    "        self.rebalance()\n",
    "        return val\n",
    "\n",
    "    def rebalance(self):\n",
    "        if len(self.q1) > len(self.q2):\n",
    "            self.q2.appendleft(self.q1.pop())\n",
    "        if len(self.q2) > len(self.q1) + 1:\n",
    "            self.q1.append(self.q2.popleft())\n"
   ]
  },
  {
   "cell_type": "code",
   "execution_count": 46,
   "id": "b3b60cc3-6d0f-4de2-8850-7485c17fd28f",
   "metadata": {},
   "outputs": [
    {
     "name": "stdout",
     "output_type": "stream",
     "text": [
      "None\n",
      "None\n",
      "None\n",
      "None\n",
      "1\n",
      "3\n",
      "4\n",
      "2\n",
      "-1\n"
     ]
    }
   ],
   "source": [
    "q=FrontMiddleBackQueue()\n",
    "print(q.pushFront(1))  \n",
    "print(q.pushBack(2))    \n",
    "print(q.pushMiddle(3)) \n",
    "print(q.pushMiddle(4)) \n",
    "print(q.popFront())   \n",
    "print(q.popMiddle())  \n",
    "print(q.popMiddle())   \n",
    "print(q.popBack())      \n",
    "print(q.popFront())   "
   ]
  },
  {
   "cell_type": "code",
   "execution_count": 1,
   "id": "8abd04d4-1aeb-49f4-a5a7-1d944677eff6",
   "metadata": {},
   "outputs": [],
   "source": [
    "class DataStream:\n",
    "    def __init__(self, value: int, k: int):\n",
    "        self.val, self.k = value, k\n",
    "        self.cnt = 0\n",
    "\n",
    "    def consec(self, num: int) -> bool:\n",
    "        self.cnt = 0 if num != self.val else self.cnt + 1\n",
    "        return self.cnt >= self.k\n"
   ]
  },
  {
   "cell_type": "code",
   "execution_count": 6,
   "id": "47d00a77-738e-46b8-b43a-bc53d7bb915e",
   "metadata": {},
   "outputs": [
    {
     "name": "stdout",
     "output_type": "stream",
     "text": [
      "False\n",
      "False\n",
      "True\n",
      "False\n"
     ]
    }
   ],
   "source": [
    "q1=DataStream(4,3)\n",
    "print(q1.consec(4))\n",
    "print(q1.consec(4))\n",
    "print(q1.consec(4))\n",
    "print(q1.consec(3))\n",
    "\n"
   ]
  }
 ],
 "metadata": {
  "kernelspec": {
   "display_name": "Python 3 (ipykernel)",
   "language": "python",
   "name": "python3"
  },
  "language_info": {
   "codemirror_mode": {
    "name": "ipython",
    "version": 3
   },
   "file_extension": ".py",
   "mimetype": "text/x-python",
   "name": "python",
   "nbconvert_exporter": "python",
   "pygments_lexer": "ipython3",
   "version": "3.10.6"
  }
 },
 "nbformat": 4,
 "nbformat_minor": 5
}
