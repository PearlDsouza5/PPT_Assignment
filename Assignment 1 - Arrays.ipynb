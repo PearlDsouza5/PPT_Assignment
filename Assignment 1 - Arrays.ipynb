{
 "cells": [
  {
   "cell_type": "code",
   "execution_count": null,
   "id": "64609476-2507-4729-b21a-9310c3e98c46",
   "metadata": {},
   "outputs": [],
   "source": [
    "#Given an array of integers nums and an integer target, return indices of the two numbers such that they add up to target."
   ]
  },
  {
   "cell_type": "code",
   "execution_count": 17,
   "id": "24ebe72c-faf3-4434-8509-28e587670f12",
   "metadata": {},
   "outputs": [],
   "source": [
    "def func(nums, target):\n",
    "    for x in range(0,len(nums)):\n",
    "        for y in range(1,len(nums)):\n",
    "            if(nums[x] + nums[y] == target):\n",
    "                return [x, y]"
   ]
  },
  {
   "cell_type": "code",
   "execution_count": 18,
   "id": "ba35f82e-5dae-4f69-8274-0bfee40428d1",
   "metadata": {},
   "outputs": [
    {
     "data": {
      "text/plain": [
       "[0, 1]"
      ]
     },
     "execution_count": 18,
     "metadata": {},
     "output_type": "execute_result"
    }
   ],
   "source": [
    "func([2,7,11,15],9)"
   ]
  },
  {
   "cell_type": "code",
   "execution_count": null,
   "id": "709f15b9-34c4-4a06-b562-3dcbc425ffb7",
   "metadata": {},
   "outputs": [],
   "source": [
    "#Given an integer array nums and an integer val, remove all occurrences of val in nums in-place. \n",
    "#The order of the elements may be changed. Then return the number of elements in nums which are not equal to val."
   ]
  },
  {
   "cell_type": "code",
   "execution_count": 27,
   "id": "3b11f144-9230-45f9-bc7e-35ae066d93f9",
   "metadata": {},
   "outputs": [],
   "source": [
    "def remv(nums,val):\n",
    "    l1=[]\n",
    "    for i in range(0,len(nums)):\n",
    "        if nums[i]==val:\n",
    "            continue\n",
    "        else:\n",
    "            l1.append(nums[i])\n",
    "    print(len(l1),l1)\n",
    "                   "
   ]
  },
  {
   "cell_type": "code",
   "execution_count": 28,
   "id": "64a7f6b8-6734-474c-9fd0-73fe6b9f4b0a",
   "metadata": {},
   "outputs": [
    {
     "name": "stdout",
     "output_type": "stream",
     "text": [
      "2 [2, 2]\n"
     ]
    }
   ],
   "source": [
    "remv([3,2,2,3],3)"
   ]
  },
  {
   "cell_type": "code",
   "execution_count": null,
   "id": "a8ea79fb-6212-4c37-884f-b37f1049ce3c",
   "metadata": {},
   "outputs": [],
   "source": [
    "#Given a sorted array of distinct integers and a target value, return the index if the target is found. If not, \n",
    "#return the index where it would be if it were inserted in order."
   ]
  },
  {
   "cell_type": "code",
   "execution_count": 43,
   "id": "aded9331-e797-45a0-a8ec-68d65d9ba7a0",
   "metadata": {},
   "outputs": [],
   "source": [
    "class Solution:\n",
    "    def searchInsert(self, nums: list[int], target: int) -> int:\n",
    "        left, right = 0, len(nums)\n",
    "        while left < right:\n",
    "            mid = (left + right) >> 1\n",
    "            if nums[mid] >= target:\n",
    "                right = mid\n",
    "            else:\n",
    "                left = mid + 1\n",
    "        return left"
   ]
  },
  {
   "cell_type": "code",
   "execution_count": 48,
   "id": "d865641f-77f6-49d0-a1d4-1c0474560f91",
   "metadata": {},
   "outputs": [
    {
     "name": "stdout",
     "output_type": "stream",
     "text": [
      "4\n"
     ]
    }
   ],
   "source": [
    "s1 = Solution()\n",
    "print(s1.searchInsert([1,3,5,6],7))"
   ]
  },
  {
   "cell_type": "code",
   "execution_count": 49,
   "id": "3cc3f82e-8229-419a-97c0-ea634c2e70de",
   "metadata": {},
   "outputs": [],
   "source": [
    "#You are given a large integer represented as an integer array digits, where each digits[i] is the ith digit of the integer.\n",
    "#The digits are ordered from most significant to least significant in left-to-right order. \n",
    "#The large integer does not contain any leading 0's."
   ]
  },
  {
   "cell_type": "code",
   "execution_count": 55,
   "id": "45debf11-35eb-468f-ab11-93c313e828ad",
   "metadata": {},
   "outputs": [],
   "source": [
    "class Solutn:\n",
    "    def plusOne(self, digits: list[int]) -> list[int]:\n",
    "        n = len(digits)\n",
    "        for i in range(n - 1, -1, -1):\n",
    "            digits[i] += 1\n",
    "            digits[i] %= 10\n",
    "            if digits[i] != 0:\n",
    "                return digits\n",
    "        return [1] + digits"
   ]
  },
  {
   "cell_type": "code",
   "execution_count": 57,
   "id": "7cebf6a1-f0c0-4389-9536-18472d3bd515",
   "metadata": {},
   "outputs": [
    {
     "name": "stdout",
     "output_type": "stream",
     "text": [
      "[1, 2, 4]\n"
     ]
    }
   ],
   "source": [
    "s2 = Solutn()\n",
    "print(s1.plusOne([1,2,3]))"
   ]
  },
  {
   "cell_type": "code",
   "execution_count": null,
   "id": "26d337d3-c497-4eb5-925c-b01cd39bc76e",
   "metadata": {},
   "outputs": [],
   "source": [
    "#You are given two integer arrays nums1 and nums2, sorted in non-decreasing order, and two integers m and n, \n",
    "#representing the number of elements in nums1 and nums2 respectively.\n",
    "#Merge nums1 and nums2 into a single array sorted in non-decreasing order."
   ]
  },
  {
   "cell_type": "code",
   "execution_count": 69,
   "id": "9c1c7b79-4f84-46f9-9c0f-6fb5dc01d1ae",
   "metadata": {},
   "outputs": [],
   "source": [
    "class Solutn2:\n",
    "    def merge(self, nums1: list[int], m: int, nums2: list[int], n: int) -> int:\n",
    "        k = m + n - 1\n",
    "        i, j = m - 1, n - 1\n",
    "        while j >= 0:\n",
    "            if i >= 0 and nums1[i] > nums2[j]:\n",
    "                nums1[k] = nums1[i]\n",
    "                i -= 1\n",
    "            else:\n",
    "                nums1[k] = nums2[j]\n",
    "                j -= 1\n",
    "            k -= 1\n",
    "        return nums1"
   ]
  },
  {
   "cell_type": "code",
   "execution_count": 70,
   "id": "c79e5afe-2ca7-4a7c-8c93-faee723c5bca",
   "metadata": {},
   "outputs": [
    {
     "data": {
      "text/plain": [
       "[1, 2, 2, 3, 5, 6]"
      ]
     },
     "execution_count": 70,
     "metadata": {},
     "output_type": "execute_result"
    }
   ],
   "source": [
    "s3 = Solutn2()\n",
    "s3.merge([1,2,3,0,0,0],3,[2,5,6],3)"
   ]
  },
  {
   "cell_type": "code",
   "execution_count": null,
   "id": "f2291ce9-11de-4382-834f-4c15b9dc4ea0",
   "metadata": {},
   "outputs": [],
   "source": [
    "#Given an integer array nums, return true if any value appears at least twice in the array, \n",
    "#and return false if every element is distinct."
   ]
  },
  {
   "cell_type": "code",
   "execution_count": 72,
   "id": "10bb12da-5307-4d98-8c96-46b2fcee4a1d",
   "metadata": {},
   "outputs": [],
   "source": [
    "class Solutn3:\n",
    "    def containsDuplicate(self, nums: list[int]) -> bool:\n",
    "        return len(set(nums)) < len(nums)"
   ]
  },
  {
   "cell_type": "code",
   "execution_count": 75,
   "id": "e6c0b3cb-9e0d-4087-927c-b25179941b74",
   "metadata": {},
   "outputs": [
    {
     "data": {
      "text/plain": [
       "True"
      ]
     },
     "execution_count": 75,
     "metadata": {},
     "output_type": "execute_result"
    }
   ],
   "source": [
    "s4 = Solutn3()\n",
    "s4.containsDuplicate([1,2,3,1])"
   ]
  },
  {
   "cell_type": "code",
   "execution_count": null,
   "id": "741f041d-2c44-45a6-9091-f9247031a581",
   "metadata": {},
   "outputs": [],
   "source": [
    "#Given an integer array nums, move all 0's to the end of it while maintaining the relative order of the nonzero elements."
   ]
  },
  {
   "cell_type": "code",
   "execution_count": 83,
   "id": "34448b65-653e-46c2-98bf-6ecfe8c5a70f",
   "metadata": {},
   "outputs": [],
   "source": [
    "class Solutn4:\n",
    "    def moveZeroes(self, nums: list[int]) -> int:\n",
    "        i = -1\n",
    "        for j, x in enumerate(nums):\n",
    "            if x:\n",
    "                i += 1\n",
    "                nums[i], nums[j] = nums[j], nums[i]\n",
    "        return nums"
   ]
  },
  {
   "cell_type": "code",
   "execution_count": 82,
   "id": "918946bf-3e13-4160-b993-ffde39523c08",
   "metadata": {},
   "outputs": [
    {
     "data": {
      "text/plain": [
       "[1, 3, 12, 0, 0]"
      ]
     },
     "execution_count": 82,
     "metadata": {},
     "output_type": "execute_result"
    }
   ],
   "source": [
    "s5 = Solutn4()\n",
    "s5.moveZeroes([0,1,0,3,12])"
   ]
  },
  {
   "cell_type": "code",
   "execution_count": 91,
   "id": "99cb26c7-206f-427a-95b0-aec5b59c5b84",
   "metadata": {},
   "outputs": [],
   "source": [
    "class Solutn5:\n",
    "    def findErrorNums(self, nums: list[int]) -> list[int]:\n",
    "        numbers = [-1 for i in range(len(nums)+1)]\n",
    "        output = []\n",
    "        for num in nums:\n",
    "            if numbers[num] == -1:\n",
    "                numbers[num] = num\n",
    "            else:\n",
    "                output.append(num)\n",
    "        \n",
    "        for i in range(1,len(numbers)):\n",
    "            if numbers[i] == -1:\n",
    "                output.append(i)\n",
    "        return output"
   ]
  },
  {
   "cell_type": "code",
   "execution_count": 95,
   "id": "774f2335-bb51-4f67-9dc6-8fc921efa0aa",
   "metadata": {},
   "outputs": [
    {
     "data": {
      "text/plain": [
       "[2, 3]"
      ]
     },
     "execution_count": 95,
     "metadata": {},
     "output_type": "execute_result"
    }
   ],
   "source": [
    "s6 = Solutn5()\n",
    "s6.findErrorNums([1,2,2,4])"
   ]
  },
  {
   "cell_type": "code",
   "execution_count": null,
   "id": "1bd464e3-928e-48c2-aa16-b711f3e7d636",
   "metadata": {},
   "outputs": [],
   "source": []
  }
 ],
 "metadata": {
  "kernelspec": {
   "display_name": "Python 3 (ipykernel)",
   "language": "python",
   "name": "python3"
  },
  "language_info": {
   "codemirror_mode": {
    "name": "ipython",
    "version": 3
   },
   "file_extension": ".py",
   "mimetype": "text/x-python",
   "name": "python",
   "nbconvert_exporter": "python",
   "pygments_lexer": "ipython3",
   "version": "3.10.6"
  }
 },
 "nbformat": 4,
 "nbformat_minor": 5
}
