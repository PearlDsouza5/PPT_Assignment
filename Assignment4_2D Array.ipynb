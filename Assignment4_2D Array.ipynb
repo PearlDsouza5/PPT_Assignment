{
 "cells": [
  {
   "cell_type": "code",
   "execution_count": null,
   "id": "7bd2cc07-6f53-4b05-9efa-a5cf12e99080",
   "metadata": {},
   "outputs": [],
   "source": [
    "Given three integer arrays arr1, arr2 and arr3 sorted in strictly increasing order, return a sorted array of only the integers that appeared in all three arrays."
   ]
  },
  {
   "cell_type": "code",
   "execution_count": 6,
   "id": "886c3106-8227-44d5-9c89-8317049b7911",
   "metadata": {},
   "outputs": [],
   "source": [
    "from collections import Counter\n",
    "class Solution:\n",
    "    def arraysIntersection(\n",
    "        self, arr1: list[int], arr2: list[int], arr3: list[int]\n",
    "    ) -> list[int]:\n",
    "        cnt = Counter(arr1 + arr2 + arr3)\n",
    "        return [x for x in arr1 if cnt[x] == 3]"
   ]
  },
  {
   "cell_type": "code",
   "execution_count": 7,
   "id": "ce4016ca-dc80-461f-9e01-d4b041f8e836",
   "metadata": {},
   "outputs": [
    {
     "data": {
      "text/plain": [
       "[1, 5]"
      ]
     },
     "execution_count": 7,
     "metadata": {},
     "output_type": "execute_result"
    }
   ],
   "source": [
    "s1 = Solution()\n",
    "s1.arraysIntersection([1,2,3,4,5],[1,2,5,7,9],[1,3,4,5,8])"
   ]
  },
  {
   "cell_type": "code",
   "execution_count": null,
   "id": "5599fd69-bb9f-4660-be80-dc172d75b32e",
   "metadata": {},
   "outputs": [],
   "source": [
    "q2"
   ]
  },
  {
   "cell_type": "code",
   "execution_count": 8,
   "id": "8d95083d-076e-4143-a23e-477e7168d30f",
   "metadata": {},
   "outputs": [],
   "source": [
    "class Solution2:\n",
    "    def findDifference(self, nums1: list[int], nums2: list[int]) -> list[list[int]]:\n",
    "        s1, s2 = set(nums1), set(nums2)\n",
    "        return [list(s1 - s2), list(s2 - s1)]"
   ]
  },
  {
   "cell_type": "code",
   "execution_count": 10,
   "id": "1e223314-0144-4798-a73a-c22b18a7397c",
   "metadata": {},
   "outputs": [
    {
     "data": {
      "text/plain": [
       "[[1, 3], [4, 6]]"
      ]
     },
     "execution_count": 10,
     "metadata": {},
     "output_type": "execute_result"
    }
   ],
   "source": [
    "s2 = Solution2()\n",
    "s2.findDifference([1,2,3],[2,4,6])"
   ]
  },
  {
   "cell_type": "code",
   "execution_count": null,
   "id": "c1e0a359-e355-4766-a7a0-6184634ab3e5",
   "metadata": {},
   "outputs": [],
   "source": [
    "q3"
   ]
  },
  {
   "cell_type": "code",
   "execution_count": 11,
   "id": "c5850293-eaa7-4c65-b2b0-0137708b6848",
   "metadata": {},
   "outputs": [],
   "source": [
    "class Solution3:\n",
    "    def transpose(self, matrix: list[list[int]]) -> list[list[int]]:\n",
    "        return list(zip(*matrix))"
   ]
  },
  {
   "cell_type": "code",
   "execution_count": 12,
   "id": "4844a80c-d1ac-4b2e-8187-edebc197873e",
   "metadata": {},
   "outputs": [
    {
     "data": {
      "text/plain": [
       "[(1, 4, 7), (2, 5, 8), (3, 6, 9)]"
      ]
     },
     "execution_count": 12,
     "metadata": {},
     "output_type": "execute_result"
    }
   ],
   "source": [
    "s3 = Solution3()\n",
    "s3.transpose([[1,2,3],[4,5,6],[7,8,9]])"
   ]
  },
  {
   "cell_type": "code",
   "execution_count": null,
   "id": "d157d6fb-d4e9-4e75-94b3-c22146b116e4",
   "metadata": {},
   "outputs": [],
   "source": [
    "q4"
   ]
  },
  {
   "cell_type": "code",
   "execution_count": 13,
   "id": "af3f0476-215d-40ed-ae29-199663c07579",
   "metadata": {},
   "outputs": [],
   "source": [
    "class Solution4:\n",
    "    def arrayPairSum(self, nums:list[int]) -> int:\n",
    "        return sum(sorted(nums)[::2])"
   ]
  },
  {
   "cell_type": "code",
   "execution_count": 15,
   "id": "619591d0-4784-4054-a398-276157ce3f0c",
   "metadata": {},
   "outputs": [
    {
     "data": {
      "text/plain": [
       "4"
      ]
     },
     "execution_count": 15,
     "metadata": {},
     "output_type": "execute_result"
    }
   ],
   "source": [
    "s4 = Solution4()\n",
    "s4.arrayPairSum([1,4,3,2])"
   ]
  },
  {
   "cell_type": "code",
   "execution_count": null,
   "id": "cc5d5c2e-ebc5-4b0e-9185-41c6999f665e",
   "metadata": {},
   "outputs": [],
   "source": [
    "q5"
   ]
  },
  {
   "cell_type": "code",
   "execution_count": 18,
   "id": "db9346be-4737-4e64-9514-8bd08d67f2dd",
   "metadata": {},
   "outputs": [],
   "source": [
    "import math\n",
    "class Solution5:\n",
    "    def arrangeCoins(self, n: int) -> int:\n",
    "        return int(math.sqrt(2) * math.sqrt(n + 0.125) - 0.5)"
   ]
  },
  {
   "cell_type": "code",
   "execution_count": 20,
   "id": "9e2f81ab-6f51-4b90-8dab-5246bc3bdd04",
   "metadata": {},
   "outputs": [
    {
     "data": {
      "text/plain": [
       "2"
      ]
     },
     "execution_count": 20,
     "metadata": {},
     "output_type": "execute_result"
    }
   ],
   "source": [
    "s5 = Solution5()\n",
    "s5.arrangeCoins(5)"
   ]
  },
  {
   "cell_type": "code",
   "execution_count": null,
   "id": "71b0e1ff-629c-4f8e-934f-fbdeea8601d1",
   "metadata": {},
   "outputs": [],
   "source": [
    "q6"
   ]
  },
  {
   "cell_type": "code",
   "execution_count": 21,
   "id": "eea43eec-8a68-4851-8b23-b6e98447ce2b",
   "metadata": {},
   "outputs": [],
   "source": [
    "class Solution6:\n",
    "    def sortedSquares(self, nums: list[int]) -> list[int]:\n",
    "        n = len(nums)\n",
    "        res = [0] * n\n",
    "        i, j, k = 0, n - 1, n - 1\n",
    "        while i <= j:\n",
    "            if nums[i] * nums[i] > nums[j] * nums[j]:\n",
    "                res[k] = nums[i] * nums[i]\n",
    "                i += 1\n",
    "            else:\n",
    "                res[k] = nums[j] * nums[j]\n",
    "                j -= 1\n",
    "            k -= 1\n",
    "        return res"
   ]
  },
  {
   "cell_type": "code",
   "execution_count": 22,
   "id": "281c2ae6-5509-41d1-a67b-8576f1c036e9",
   "metadata": {},
   "outputs": [
    {
     "data": {
      "text/plain": [
       "[0, 1, 9, 16, 100]"
      ]
     },
     "execution_count": 22,
     "metadata": {},
     "output_type": "execute_result"
    }
   ],
   "source": [
    "s6 = Solution6()\n",
    "s6.sortedSquares([-4,-1,0,3,10])"
   ]
  },
  {
   "cell_type": "code",
   "execution_count": null,
   "id": "54c729cc-7740-4df0-b3b9-2830214cf3f0",
   "metadata": {},
   "outputs": [],
   "source": [
    "q7"
   ]
  },
  {
   "cell_type": "code",
   "execution_count": 23,
   "id": "b6f6d8a7-f22e-4f4f-a371-209b9f6b0c98",
   "metadata": {},
   "outputs": [],
   "source": [
    "class Solution7:\n",
    "    def maxCount(self, m: int, n: int, ops: list[list[int]]) -> int:\n",
    "        for a, b in ops:\n",
    "            m = min(m, a)\n",
    "            n = min(n, b)\n",
    "        return m * n"
   ]
  },
  {
   "cell_type": "code",
   "execution_count": 24,
   "id": "3e916db8-cf6b-4a13-906c-647ef149fa77",
   "metadata": {},
   "outputs": [
    {
     "data": {
      "text/plain": [
       "4"
      ]
     },
     "execution_count": 24,
     "metadata": {},
     "output_type": "execute_result"
    }
   ],
   "source": [
    "s7 = Solution7()\n",
    "s7.maxCount(3,3,[[2,2],[3,3]])"
   ]
  },
  {
   "cell_type": "code",
   "execution_count": 25,
   "id": "81abb66b-faf8-4de4-a662-7b12144500df",
   "metadata": {},
   "outputs": [],
   "source": [
    "class Solution8:\n",
    "    def shuffle(self, nums: list[int], n: int) -> list[int]:\n",
    "        ans = []\n",
    "        for i in range(n):\n",
    "            ans.append(nums[i])\n",
    "            ans.append(nums[i + n])\n",
    "        return ans"
   ]
  },
  {
   "cell_type": "code",
   "execution_count": 26,
   "id": "5294817a-993b-4b73-ae61-fe89d7c4b9b3",
   "metadata": {},
   "outputs": [
    {
     "data": {
      "text/plain": [
       "[2, 3, 5, 4, 1, 7]"
      ]
     },
     "execution_count": 26,
     "metadata": {},
     "output_type": "execute_result"
    }
   ],
   "source": [
    "s8 = Solution8()\n",
    "s8.shuffle([2,5,1,3,4,7],3)"
   ]
  },
  {
   "cell_type": "code",
   "execution_count": null,
   "id": "6188a520-b657-460a-9f77-0ff2f1f27cda",
   "metadata": {},
   "outputs": [],
   "source": []
  }
 ],
 "metadata": {
  "kernelspec": {
   "display_name": "Python 3 (ipykernel)",
   "language": "python",
   "name": "python3"
  },
  "language_info": {
   "codemirror_mode": {
    "name": "ipython",
    "version": 3
   },
   "file_extension": ".py",
   "mimetype": "text/x-python",
   "name": "python",
   "nbconvert_exporter": "python",
   "pygments_lexer": "ipython3",
   "version": "3.10.6"
  }
 },
 "nbformat": 4,
 "nbformat_minor": 5
}
