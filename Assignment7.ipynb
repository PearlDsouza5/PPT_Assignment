{
 "cells": [
  {
   "cell_type": "code",
   "execution_count": null,
   "id": "9d7abbfd-00b5-4b80-89bf-7ee6d83d09f5",
   "metadata": {},
   "outputs": [],
   "source": [
    "Given two strings s and t, *determine if they are isomorphic*.\n",
    "\n",
    "Two strings s and t are isomorphic if the characters in s can be replaced to get t.\n",
    "\n",
    "All occurrences of a character must be replaced with another character while preserving the order of characters. No two characters may map to the same character, but a character may map to itself."
   ]
  },
  {
   "cell_type": "code",
   "execution_count": null,
   "id": "e68ff5db-2f42-4593-9731-4864deb78bf7",
   "metadata": {},
   "outputs": [],
   "source": [
    "def isisomorphic(str1, str2):\n",
    "    if len(str1) != len(str2):\n",
    "        return False\n",
    "    else:\n",
    "        map1, map2 = {}, {}\n",
    "        for i in range(len(str1)):\n",
    "            ch1, ch2 = str1[i], str2[i]\n",
    "            if ch1 not in map1:\n",
    "                map1[ch1] = ch2\n",
    "            if ch2 not in map2:\n",
    "                map2[ch2] = ch1\n",
    "            if map1[ch1] != ch2 or map2[ch2] != ch1:\n",
    "                return False\n",
    "    return True\n",
    "\n",
    "\n",
    "str1 = \"egg\"\n",
    "str2 = \"add\"\n",
    "print(isisomorphic(str1, str2))"
   ]
  },
  {
   "cell_type": "code",
   "execution_count": null,
   "id": "7456ba3a-b2c7-443e-8c8e-dc02a0a6a72c",
   "metadata": {},
   "outputs": [],
   "source": [
    "Given a string num which represents an integer, return true *if* num *is a **strobogrammatic number***.\n",
    "\n",
    "A **strobogrammatic number** is a number that looks the same when rotated 180 degrees (looked at upside down)."
   ]
  },
  {
   "cell_type": "code",
   "execution_count": null,
   "id": "4d15f845-fc03-4205-b7f9-e9fba511b736",
   "metadata": {},
   "outputs": [],
   "source": [
    "class Solution(object):\n",
    "    def isStrobogrammatic(self, num):\n",
    "      \n",
    "        maps = {(\"0\", \"0\"), (\"1\", \"1\"), (\"6\", \"9\"), (\"8\", \"8\"), (\"9\", \"6\")}\n",
    "        i,j = 0, len(num) - 1\n",
    "        while i <= j:\n",
    "            if (num[i], num[j]) not in maps:\n",
    "                return False\n",
    "            i += 1\n",
    "            j -= 1\n",
    "        return True"
   ]
  },
  {
   "cell_type": "code",
   "execution_count": null,
   "id": "6adaedc4-afcc-4ae0-8c7f-a7e003d7ca5a",
   "metadata": {},
   "outputs": [],
   "source": [
    "Given two non-negative integers, num1 and num2 represented as string, return *the sum of* num1 *and* num2 *as a string*.\n",
    "\n",
    "You must solve the problem without using any built-in library for handling large integers (such as BigInteger). You must also not convert the inputs to integers directly."
   ]
  },
  {
   "cell_type": "code",
   "execution_count": null,
   "id": "90e7266f-3d83-4274-b789-92e30889eb58",
   "metadata": {},
   "outputs": [],
   "source": [
    "class Solution:\n",
    "    def addStrings(self, num1: str, num2: str) -> str:\n",
    "        i, j = len(num1) - 1, len(num2) - 1\n",
    "        ans = []\n",
    "        c = 0\n",
    "        while i >= 0 or j >= 0 or c:\n",
    "            a = 0 if i < 0 else int(num1[i])\n",
    "            b = 0 if j < 0 else int(num2[j])\n",
    "            c, v = divmod(a + b + c, 10)\n",
    "            ans.append(str(v))\n",
    "            i, j = i - 1, j - 1\n",
    "        return \"\".join(ans[::-1])\n",
    "\n",
    "    def subStrings(self, num1: str, num2: str) -> str:\n",
    "        m, n = len(num1), len(num2)\n",
    "        neg = m < n or (m == n and num1 < num2)\n",
    "        if neg:\n",
    "            num1, num2 = num2, num1\n",
    "        i, j = len(num1) - 1, len(num2) - 1\n",
    "        ans = []\n",
    "        c = 0\n",
    "        while i >= 0:\n",
    "            c = int(num1[i]) - c - (0 if j < 0 else int(num2[j]))\n",
    "            ans.append(str((c + 10) % 10))\n",
    "            c = 1 if c < 0 else 0\n",
    "            i, j = i - 1, j - 1\n",
    "        while len(ans) > 1 and ans[-1] == '0':\n",
    "            ans.pop()\n",
    "        if neg:\n",
    "            ans.append('-')\n",
    "        return ''.join(ans[::-1])"
   ]
  },
  {
   "cell_type": "code",
   "execution_count": null,
   "id": "7396d983-6d6b-4400-b754-5da0ce5b589b",
   "metadata": {},
   "outputs": [],
   "source": [
    "Given a string s, reverse the order of characters in each word within a sentence while still preserving whitespace and initial word order.\n",
    "\n",
    "**Example 1:**\n",
    "\n",
    "**Input:** s = \"Let's take LeetCode contest\"\n",
    "\n",
    "**Output:** \"s'teL ekat edoCteeL tsetnoc\""
   ]
  },
  {
   "cell_type": "code",
   "execution_count": null,
   "id": "2918f729-bd27-4920-8eea-3e008fe98b98",
   "metadata": {},
   "outputs": [],
   "source": [
    "def reverseWords(s):\n",
    "    # Split the string into words\n",
    "    words = s.split()\n",
    "    \n",
    "    # Reverse each word and join them back together\n",
    "    return ' '.join(word[::-1] for word in words)"
   ]
  },
  {
   "cell_type": "code",
   "execution_count": null,
   "id": "f212c3e4-2936-4905-8263-0c47861f6eb9",
   "metadata": {},
   "outputs": [],
   "source": [
    "counting from the start of the string. If there are fewer than k characters left, reverse all of them. If there are less than 2k but greater than \n",
    "or equal to k characters, then reverse the first k characters and leave the other as original."
   ]
  },
  {
   "cell_type": "code",
   "execution_count": null,
   "id": "13b2af18-4b05-4611-9a78-85332a6b586e",
   "metadata": {},
   "outputs": [],
   "source": [
    "class Solution:\n",
    "   def reverseStr(self, s, k):\n",
    "      l = list(s)\n",
    "      i = k-1\n",
    "      while i < len(l)+k:\n",
    "         a = l[:i-k+1]\n",
    "         b = l[i-k+1:i+1]\n",
    "         c = l[i+1:]\n",
    "         l = a + b[::-1] + c\n",
    "         i += 2*k\n",
    "      return ''.join(l)\n",
    "\n",
    "ob = Solution()\n",
    "print(ob.reverseStr(\"abcdefg\", 3))"
   ]
  },
  {
   "cell_type": "code",
   "execution_count": null,
   "id": "2eac3142-57d4-41f7-a677-c453221eedf5",
   "metadata": {},
   "outputs": [],
   "source": [
    "Given two strings s and goal, return true *if and only if* s *can become* goal *after some number of **shifts** on* s.\n",
    "\n",
    "A **shift** on s consists of moving the leftmost character of s to the rightmost position.\n",
    "\n",
    "- For example, if s = \"abcde\", then it will be \"bcdea\" after one shift."
   ]
  },
  {
   "cell_type": "code",
   "execution_count": null,
   "id": "dedef987-e034-49a1-9b73-3ef2cf499805",
   "metadata": {},
   "outputs": [],
   "source": [
    "str1 = \"abcde\";  \n",
    "str2 = \"bcdea\";  \n",
    "   \n",
    "if(len(str1) != len(str2)):  \n",
    "    print(\"Second string is not a rotation of first string\");  \n",
    "else:  \n",
    "    try:  \n",
    "        #Concatenate str1 with str1 and store it in str1  \n",
    "        str1 = str1 + str1;  \n",
    "          \n",
    "        #Check whether str2 is present in str1  \n",
    "        if(str1.index(str2)):  \n",
    "            print(\"Second string is a rotation of first string\");  \n",
    "    except ValueError:  \n",
    "            print(\"Second string is not a rotation of first string\");  "
   ]
  },
  {
   "cell_type": "code",
   "execution_count": null,
   "id": "1f31600a-d95b-4919-974d-749086a08264",
   "metadata": {},
   "outputs": [],
   "source": [
    "Given two strings s and t, return true *if they are equal when both are typed into empty text editors*. '#' means a backspace character.\n",
    "Note that after backspacing an empty text, the text will continue empty."
   ]
  },
  {
   "cell_type": "code",
   "execution_count": null,
   "id": "c00332ee-b11e-4b33-a5f9-4e2160b77d12",
   "metadata": {},
   "outputs": [],
   "source": [
    "class Solution:\n",
    "    def backspaceCompare(self, S: str, T: str) -> bool:\n",
    "        def bckspc(string):\n",
    "            stack=[]\n",
    "            for i in string:\n",
    "                if i =='#':\n",
    "                    try:\n",
    "                        stack.pop()\n",
    "                    except:\n",
    "                        pass\n",
    "                else:\n",
    "                    stack.append(i)\n",
    "            return ''.join(stack)\n",
    "        return (bckspc(S)==bckspc(T))"
   ]
  },
  {
   "cell_type": "code",
   "execution_count": null,
   "id": "b899430a-a410-44ef-9b4d-647c426fd38e",
   "metadata": {},
   "outputs": [],
   "source": [
    "You are given an array coordinates, coordinates[i] = [x, y], where [x, y] represents the coordinate of a point. Check if these points make a straight line in the XY plane.\n",
    "\n",
    "**Example 1:**\n",
    "\n",
    "**Input:** coordinates = [[1,2],[2,3],[3,4],[4,5],[5,6],[6,7]]\n",
    "\n",
    "**Output:** true"
   ]
  },
  {
   "cell_type": "code",
   "execution_count": null,
   "id": "c27d2e41-6964-47dc-9193-6c9a3a6399f8",
   "metadata": {},
   "outputs": [],
   "source": [
    "class Solution:\n",
    "    def checkStraightLine(self, coordinates: List[List[int]]) -> bool:\n",
    "        num = len(coordinates)\n",
    "        if coordinates is None or num == 2: return True\n",
    "        dy0 = coordinates[1][1] - coordinates[0][1]\n",
    "        dx0 = coordinates[1][0] - coordinates[0][0]\n",
    "        for i in range(1,num-1):\n",
    "            dy1 = coordinates[i+1][1] - coordinates[i][1]\n",
    "            dx1 = coordinates[i+1][0] - coordinates[i][0]\n",
    "            if dy0 * dx1 != dy1 * dx0: return False\n",
    "        return True"
   ]
  }
 ],
 "metadata": {
  "kernelspec": {
   "display_name": "Python 3 (ipykernel)",
   "language": "python",
   "name": "python3"
  },
  "language_info": {
   "codemirror_mode": {
    "name": "ipython",
    "version": 3
   },
   "file_extension": ".py",
   "mimetype": "text/x-python",
   "name": "python",
   "nbconvert_exporter": "python",
   "pygments_lexer": "ipython3",
   "version": "3.10.6"
  }
 },
 "nbformat": 4,
 "nbformat_minor": 5
}
