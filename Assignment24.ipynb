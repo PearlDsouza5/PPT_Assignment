{
 "cells": [
  {
   "cell_type": "code",
   "execution_count": 4,
   "id": "8f853d47-5b72-4d49-afd7-82e402752529",
   "metadata": {},
   "outputs": [
    {
     "data": {
      "text/plain": [
       "3"
      ]
     },
     "execution_count": 4,
     "metadata": {},
     "output_type": "execute_result"
    }
   ],
   "source": [
    "from itertools import pairwise\n",
    "class Solution1:\n",
    "    def romanToInt(self, s: str) -> int:\n",
    "        d = {'I': 1, 'V': 5, 'X': 10, 'L': 50, 'C': 100, 'D': 500, 'M': 1000}\n",
    "        return sum((-1 if d[a] < d[b] else 1) * d[a] for a, b in pairwise(s)) + d[s[-1]]\n",
    "    \n",
    "s1=Solution1()\n",
    "s1.romanToInt(\"III\")"
   ]
  },
  {
   "cell_type": "code",
   "execution_count": 5,
   "id": "4a1f1bc9-6cad-44d0-b519-967b5bd0adb7",
   "metadata": {},
   "outputs": [
    {
     "data": {
      "text/plain": [
       "3"
      ]
     },
     "execution_count": 5,
     "metadata": {},
     "output_type": "execute_result"
    }
   ],
   "source": [
    "class Solution2:\n",
    "    def lengthOfLongestSubstring(self, s: str) -> int:\n",
    "        ss = set()\n",
    "        i = ans = 0\n",
    "        for j, c in enumerate(s):\n",
    "            while c in ss:\n",
    "                ss.remove(s[i])\n",
    "                i += 1\n",
    "            ss.add(c)\n",
    "            ans = max(ans, j - i + 1)\n",
    "        return ans\n",
    "    \n",
    "s1=Solution2()\n",
    "s1.lengthOfLongestSubstring(\"abcabcbb\")"
   ]
  },
  {
   "cell_type": "code",
   "execution_count": 6,
   "id": "f50e931b-e51e-46ab-a604-929c6c5dee11",
   "metadata": {},
   "outputs": [
    {
     "data": {
      "text/plain": [
       "3"
      ]
     },
     "execution_count": 6,
     "metadata": {},
     "output_type": "execute_result"
    }
   ],
   "source": [
    "class Solution:\n",
    "    def majorityElement(self, nums: list[int]) -> int:\n",
    "        cnt = m = 0\n",
    "        for v in nums:\n",
    "            if cnt == 0:\n",
    "                m, cnt = v, 1\n",
    "            else:\n",
    "                cnt += 1 if m == v else -1\n",
    "        return m if nums.count(m) > len(nums) // 2 else -1\n",
    "\n",
    "s1=Solution()\n",
    "s1.majorityElement([3,2,3])"
   ]
  },
  {
   "cell_type": "code",
   "execution_count": 9,
   "id": "e021aceb-0c03-410d-881b-ceb82fda216c",
   "metadata": {},
   "outputs": [
    {
     "data": {
      "text/plain": [
       "[['eat', 'tea', 'ate'], ['tan', 'nat'], ['bat']]"
      ]
     },
     "execution_count": 9,
     "metadata": {},
     "output_type": "execute_result"
    }
   ],
   "source": [
    "from collections import defaultdict\n",
    "class Solution:\n",
    "    def groupAnagrams(self, strs: list[str]) -> list[list[str]]:\n",
    "        chars = defaultdict(list)\n",
    "        for s in strs:\n",
    "            k = ''.join(sorted(list(s)))\n",
    "            chars[k].append(s)\n",
    "        return list(chars.values())\n",
    "    \n",
    "s1=Solution()\n",
    "s1.groupAnagrams([\"eat\",\"tea\",\"tan\",\"ate\",\"nat\",\"bat\"])"
   ]
  },
  {
   "cell_type": "code",
   "execution_count": 15,
   "id": "fbfd100f-7854-412e-be85-30048dde63f3",
   "metadata": {},
   "outputs": [
    {
     "name": "stdout",
     "output_type": "stream",
     "text": [
      " ugly no. is  12\n"
     ]
    }
   ],
   "source": [
    "\n",
    "\n",
    "def maxDivide(a, b):\n",
    "\twhile a % b == 0:\n",
    "\t\ta = a / b\n",
    "\treturn a\n",
    "\n",
    "# Function to check if a number\n",
    "# is ugly or not\n",
    "def isUgly(no):\n",
    "\tno = maxDivide(no, 2)\n",
    "\tno = maxDivide(no, 3)\n",
    "\tno = maxDivide(no, 5)\n",
    "\treturn 1 if no == 1 else 0\n",
    "\n",
    "# Function to get the nth ugly number\n",
    "def getNthUglyNo(n):\n",
    "\ti = 1\n",
    "\t\n",
    "\t# ugly number count\n",
    "\tcount = 1\n",
    "\n",
    "\n",
    "\twhile n > count:\n",
    "\t\ti += 1\n",
    "\t\tif isUgly(i):\n",
    "\t\t\tcount += 1\n",
    "\treturn i\n",
    "\n",
    "\n",
    "no = getNthUglyNo(10)\n",
    "print(\" ugly no. is \", no)\n"
   ]
  },
  {
   "cell_type": "code",
   "execution_count": 19,
   "id": "26ad150c-7401-4285-b0cb-de64fb34d955",
   "metadata": {},
   "outputs": [
    {
     "data": {
      "text/plain": [
       "['i', 'love']"
      ]
     },
     "execution_count": 19,
     "metadata": {},
     "output_type": "execute_result"
    }
   ],
   "source": [
    "from collections import Counter\n",
    "class Solution:\n",
    "    def topKFrequent(self, words: list[str], k: int) -> list[str]:\n",
    "        cnt = Counter(words)\n",
    "        return sorted(cnt, key=lambda x: (-cnt[x], x))[:k]\n",
    "    \n",
    "s1=Solution()\n",
    "s1.topKFrequent([\"i\",\"love\",\"leetcode\",\"i\",\"love\",\"coding\"],2)"
   ]
  },
  {
   "cell_type": "code",
   "execution_count": 26,
   "id": "2b5208da-2ee3-4b94-8632-4d5638ee8454",
   "metadata": {},
   "outputs": [
    {
     "data": {
      "text/plain": [
       "[1]"
      ]
     },
     "execution_count": 26,
     "metadata": {},
     "output_type": "execute_result"
    }
   ],
   "source": [
    "from queue import deque\n",
    "class Solution:\n",
    "    def maxSlidingWindow(self, nums: list[int], k: int) -> list[int]:\n",
    "        q = deque()\n",
    "        ans = []\n",
    "        for i, v in enumerate(nums):\n",
    "            if q and i - k + 1 > q[0]:\n",
    "                q.popleft()\n",
    "            while q and nums[q[-1]] <= v:\n",
    "                q.pop()\n",
    "            q.append(i)\n",
    "            if i >= k - 1:\n",
    "                ans.append(nums[q[0]])\n",
    "        return ans\n",
    "    \n",
    "s1=Solution()\n",
    "s1.maxSlidingWindow([1],1)"
   ]
  },
  {
   "cell_type": "code",
   "execution_count": 25,
   "id": "16097ecb-70c9-4723-902a-e451950c7be3",
   "metadata": {},
   "outputs": [
    {
     "data": {
      "text/plain": [
       "[1, 2, 3, 4]"
      ]
     },
     "execution_count": 25,
     "metadata": {},
     "output_type": "execute_result"
    }
   ],
   "source": [
    "class Solution:\n",
    "    def findClosestElements(self, arr: list[int], k: int, x: int) -> list[int]:\n",
    "        left, right = 0, len(arr) - k\n",
    "        while left < right:\n",
    "            mid = (left + right) >> 1\n",
    "            if x - arr[mid] <= arr[mid + k] - x:\n",
    "                right = mid\n",
    "            else:\n",
    "                left = mid + 1\n",
    "        return arr[left : left + k]\n",
    "    \n",
    "s1=Solution()\n",
    "s1.findClosestElements([1,2,3,4,5],4,3)"
   ]
  },
  {
   "cell_type": "code",
   "execution_count": null,
   "id": "bec7644c-680e-4669-8ef2-a363129b5c96",
   "metadata": {},
   "outputs": [],
   "source": []
  }
 ],
 "metadata": {
  "kernelspec": {
   "display_name": "Python 3 (ipykernel)",
   "language": "python",
   "name": "python3"
  },
  "language_info": {
   "codemirror_mode": {
    "name": "ipython",
    "version": 3
   },
   "file_extension": ".py",
   "mimetype": "text/x-python",
   "name": "python",
   "nbconvert_exporter": "python",
   "pygments_lexer": "ipython3",
   "version": "3.10.6"
  }
 },
 "nbformat": 4,
 "nbformat_minor": 5
}
