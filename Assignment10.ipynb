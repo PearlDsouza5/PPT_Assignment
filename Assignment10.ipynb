{
 "cells": [
  {
   "cell_type": "code",
   "execution_count": null,
   "id": "610ec908-8f43-4749-a8c0-79d4c8f848b5",
   "metadata": {},
   "outputs": [],
   "source": [
    "Given an integer `n`, return *`true` if it is a power of three. Otherwise, return `false`*.\n",
    "\n",
    "An integer `n` is a power of three, if there exists an integer `x` such that `n == 3x`."
   ]
  },
  {
   "cell_type": "code",
   "execution_count": null,
   "id": "b5325400-4f05-4425-9fd8-2fcfa1b5bb1f",
   "metadata": {},
   "outputs": [],
   "source": [
    "class Solution:\n",
    "    def isPowerOfThree(self, n: int) -> bool:\n",
    "        if n < 1: return False\n",
    "        ans = log(n, 3)\n",
    "        return abs(ans - round(ans)) < 1e-10"
   ]
  },
  {
   "cell_type": "code",
   "execution_count": null,
   "id": "5dbc1422-4a3b-4244-8c2a-a05e1c78274e",
   "metadata": {},
   "outputs": [],
   "source": [
    "You have a list `arr` of all integers in the range `[1, n]` sorted in a strictly increasing order. Apply the following algorithm on `arr`:\n",
    "\n",
    "- Starting from left to right, remove the first number and every other number afterward until you reach the end of the list.\n",
    "- Repeat the previous step again, but this time from right to left, remove the rightmost number and every other number from the remaining numbers.\n",
    "- Keep repeating the steps again, alternating left to right and right to left, until a single number remains.\n",
    "\n",
    "Given the integer `n`, return *the last number that remains in* `arr`."
   ]
  },
  {
   "cell_type": "code",
   "execution_count": null,
   "id": "65a3b810-dd15-43f2-8db2-65b091b7d66a",
   "metadata": {},
   "outputs": [],
   "source": [
    "class Solution:\n",
    "    def lastRemaining(self, n: int) -> int:\n",
    "        a1, an = 1, n\n",
    "        i, step, cnt = 0, 1, n\n",
    "        while cnt > 1:\n",
    "            if i % 2:\n",
    "                an -= step\n",
    "                if cnt % 2:\n",
    "                    a1 += step\n",
    "            else:\n",
    "                a1 += step\n",
    "                if cnt % 2:\n",
    "                    an -= step\n",
    "            cnt >>= 1\n",
    "            step <<= 1\n",
    "            i += 1\n",
    "        return a1"
   ]
  },
  {
   "cell_type": "code",
   "execution_count": null,
   "id": "9993132c-fc8b-40bb-8888-766c4fb39312",
   "metadata": {},
   "outputs": [],
   "source": [
    "Given a set represented as a string, write a recursive code to print all subsets of it. The subsets can be printed in any order.\n",
    "\n",
    "**Example 1:**\n",
    "\n",
    "Input :  set = “abc”\n",
    "\n",
    "Output : { “”, “a”, “b”, “c”, “ab”, “ac”, “bc”, “abc”}\n",
    "\n",
    "**Example 2:**\n",
    "\n",
    "Input : set = “abcd”\n",
    "\n",
    "Output : { “”, “a” ,”ab” ,”abc” ,”abcd”, “abd” ,”ac” ,”acd”, “ad” ,”b”, “bc” ,”bcd” ,”bd” ,”c” ,”cd” ,”d” }"
   ]
  },
  {
   "cell_type": "code",
   "execution_count": null,
   "id": "2f6de625-46a9-4498-bf16-7ffd415fa109",
   "metadata": {},
   "outputs": [],
   "source": [
    "#include<bits/stdc++.h>\n",
    "using namespace std;\n",
    "void solve(int i, string s, string &f) {\n",
    "\tif (i == s.length()) {\n",
    "\t\tcout << f << \" \";\n",
    "\t\treturn;\n",
    "\t}\n",
    "\t//picking \n",
    "\tf = f + s[i];\n",
    "\tsolve(i + 1, s,  f);\n",
    "\t//poping out while backtracking\n",
    "\tf.pop_back();\n",
    "\tsolve(i + 1, s,  f);\n",
    "}\n",
    "int main() {\n",
    "\tstring s = \"abc\";\n",
    "\tstring f = \"\";\n",
    "\tcout<<\"All possible subsequences are: \"<<endl;\n",
    "\tsolve(0, s, f);\n",
    "}"
   ]
  },
  {
   "cell_type": "code",
   "execution_count": null,
   "id": "72dee3f0-37bc-40fc-8526-994828420c82",
   "metadata": {},
   "outputs": [],
   "source": [
    "Given a string calculate length of the string using recursion."
   ]
  },
  {
   "cell_type": "code",
   "execution_count": null,
   "id": "d589d92e-a157-481b-ad38-d6fca8106b8d",
   "metadata": {},
   "outputs": [],
   "source": [
    "def length(str):\n",
    "    if str == \"\":\n",
    "        return 0\n",
    "    return 1 + length(str[1:])\n",
    "\n",
    "\n",
    "str = \"PrepInsta\"\n",
    "print(\"length of\", str, \"is\", length(str))"
   ]
  },
  {
   "cell_type": "code",
   "execution_count": null,
   "id": "d197a47c-48e1-41b0-99d9-cc914ff94517",
   "metadata": {},
   "outputs": [],
   "source": [
    "We are given a string S, we need to find count of all contiguous substrings starting and ending with same character."
   ]
  },
  {
   "cell_type": "code",
   "execution_count": null,
   "id": "846039d8-9062-4b47-a2a5-4def90263118",
   "metadata": {},
   "outputs": [],
   "source": [
    "def no_of_substring_with_equalEnds(str1): \n",
    "\tresult = 0; \n",
    "\tn = len(str1); \n",
    "\tfor i in range(n): \n",
    "\t\tfor j in range(i, n): \n",
    "\t\t\tif (str1[i] == str1[j]): \n",
    "\t\t\t\tresult = result + 1\n",
    "\treturn result \n",
    "str1 = input(\"Input a string: \")\n",
    "print(no_of_substring_with_equalEnds(str1))\n"
   ]
  },
  {
   "cell_type": "code",
   "execution_count": null,
   "id": "49d32c68-e895-4080-8a32-dc1c8deff9d2",
   "metadata": {},
   "outputs": [],
   "source": [
    "The tower of Hanoi is a famous puzzle where we have three rods and N disks. The objective of the puzzle is to move the entire stack to another rod. \n",
    "You are given the number of discs N. Initially, these discs are in the rod 1. You need to print all the steps of discs movement so that all the \n",
    "discs reach the 3rd rod. Also, you need to find the total moves.Note: The discs are arranged such that the top disc is numbered 1 and the bottom-most \n",
    "disc is numbered N. Also, all the discs have different sizes and a bigger disc cannot be put on the top of a smaller disc. \n",
    "Refer the provided link to get a better clarity about the puzzle."
   ]
  },
  {
   "cell_type": "code",
   "execution_count": null,
   "id": "54e90dce-1e6a-4115-9a33-93de0e7f5682",
   "metadata": {},
   "outputs": [],
   "source": [
    "def move(disks, source=1, auxiliary=2, target=3):\n",
    " \n",
    "    if disks > 0:\n",
    " \n",
    "        # move `n-1` discs from source to auxiliary using the target\n",
    "        # as an intermediate pole\n",
    "        move(disks - 1, source, target, auxiliary)\n",
    " \n",
    "        # move one disc from source to target\n",
    "        print(f'Move disk {disks} from {source} —> {target}')\n",
    " \n",
    "        # move `n-1` discs from auxiliary to target using the source\n",
    "        # as an intermediate pole\n",
    "        move(disks - 1, auxiliary, source, target)\n",
    " \n",
    " \n",
    "# Tower of Hanoi Problem\n",
    "if __name__ == '__main__':\n",
    " \n",
    "    n = 3\n",
    "    move(n)\n",
    " "
   ]
  },
  {
   "cell_type": "code",
   "execution_count": null,
   "id": "3845a702-fa0f-4e42-9437-fd568ad67625",
   "metadata": {},
   "outputs": [],
   "source": [
    "Given a string str, the task is to print all the permutations of str. A permutation is an arrangement of all or part of a set of objects, \n",
    "with regard to the order of the arrangement. For instance, the words ‘bat’ and ‘tab’ represents two distinct permutation (or arrangements) \n",
    "of a similar three letter word."
   ]
  },
  {
   "cell_type": "code",
   "execution_count": null,
   "id": "8cc2123b-69aa-46cf-88d7-33b251db5147",
   "metadata": {},
   "outputs": [],
   "source": [
    "def generatePermutation(string,start,end):  \n",
    "    current = 0;  \n",
    "    #Prints the permutations  \n",
    "    if(start == end-1):  \n",
    "        print(string);  \n",
    "    else:   \n",
    "        for current in range(start,end):  \n",
    "  \n",
    "       #Swapping the string by fixing a character  \n",
    "            x = list(string);  \n",
    "            temp = x[start];  \n",
    "            x[start] = x[current];  \n",
    "            x[current] = temp;  \n",
    "  \n",
    "      #Recursively calling function generatePermutation() for rest of the characters  \n",
    "  \n",
    "            generatePermutation(\"\".join(x),start+1,end);  \n",
    "            #Swapping the string by fixing a character  \n",
    "            temp = x[start];  \n",
    "            x[start] = x[current];  \n",
    "            x[current] = temp;  \n",
    "  \n",
    "str = \"ABC\"  \n",
    "n = len(str);  \n",
    "print(\"All the permutations of the string are: \");  \n",
    "generatePermutation(str,0,n);  "
   ]
  },
  {
   "cell_type": "code",
   "execution_count": null,
   "id": "be040259-01d8-45a7-a380-ff26f5227d4c",
   "metadata": {},
   "outputs": [],
   "source": [
    "vcount = 0;  \n",
    "ccount = 0;  \n",
    "str = \"This is a really simple sentence\";  \n",
    "   \n",
    "#Converting entire string to lower case to reduce the comparisons  \n",
    "str = str.lower();  \n",
    "for i in range(0,len(str)):   \n",
    "    #Checks whether a character is a vowel  \n",
    "    if str[i] in ('a',\"e\",\"i\",\"o\",\"u\"):  \n",
    "        vcount = vcount + 1;  \n",
    "    elif (str[i] >= 'a' and str[i] <= 'z'):  \n",
    "        ccount = ccount + 1;  \n",
    "print(\"Total number of vowel and consonant are\" );  \n",
    "print(vcount);  \n",
    "print(ccount);  "
   ]
  },
  {
   "cell_type": "code",
   "execution_count": null,
   "id": "3d1106be-3bee-4bf7-89fc-89cfa02c721c",
   "metadata": {},
   "outputs": [],
   "source": [
    "vcount = 0;  \n",
    "ccount = 0;  \n",
    "str = \"This is a really simple sentence\";  \n",
    "   \n",
    "#Converting entire string to lower case to reduce the comparisons  \n",
    "str = str.lower();  \n",
    "for i in range(0,len(str)):   \n",
    "    #Checks whether a character is a vowel  \n",
    "    if str[i] in ('a',\"e\",\"i\",\"o\",\"u\"):  \n",
    "        vcount = vcount + 1;  \n",
    "    elif (str[i] >= 'a' and str[i] <= 'z'):  \n",
    "        ccount = ccount + 1;  \n",
    "print(\"Total number of vowel and consonant are\" );  \n",
    "print(vcount);  \n",
    "print(ccount);  "
   ]
  }
 ],
 "metadata": {
  "kernelspec": {
   "display_name": "Python 3 (ipykernel)",
   "language": "python",
   "name": "python3"
  },
  "language_info": {
   "codemirror_mode": {
    "name": "ipython",
    "version": 3
   },
   "file_extension": ".py",
   "mimetype": "text/x-python",
   "name": "python",
   "nbconvert_exporter": "python",
   "pygments_lexer": "ipython3",
   "version": "3.10.6"
  }
 },
 "nbformat": 4,
 "nbformat_minor": 5
}
