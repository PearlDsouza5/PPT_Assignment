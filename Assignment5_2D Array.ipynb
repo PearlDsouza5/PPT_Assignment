{
 "cells": [
  {
   "cell_type": "code",
   "execution_count": 1,
   "id": "74c3c8d0-cc96-4f21-8ac0-8c4fed452904",
   "metadata": {},
   "outputs": [
    {
     "ename": "NameError",
     "evalue": "name 'q1' is not defined",
     "output_type": "error",
     "traceback": [
      "\u001b[0;31m---------------------------------------------------------------------------\u001b[0m",
      "\u001b[0;31mNameError\u001b[0m                                 Traceback (most recent call last)",
      "Cell \u001b[0;32mIn [1], line 1\u001b[0m\n\u001b[0;32m----> 1\u001b[0m \u001b[43mq1\u001b[49m\n",
      "\u001b[0;31mNameError\u001b[0m: name 'q1' is not defined"
     ]
    }
   ],
   "source": [
    "q1"
   ]
  },
  {
   "cell_type": "code",
   "execution_count": 2,
   "id": "e1cc4b33-2108-441a-9319-07a33e696582",
   "metadata": {},
   "outputs": [],
   "source": [
    "class Solution:\n",
    "    def construct2DArray(self, original: list[int], m: int, n: int) -> list[list[int]]:\n",
    "        if m * n != len(original):\n",
    "            return []\n",
    "        return [original[i : i + n] for i in range(0, m * n, n)]"
   ]
  },
  {
   "cell_type": "code",
   "execution_count": 3,
   "id": "cdc47fb4-2fdf-41ad-9e6d-a101807f13c3",
   "metadata": {},
   "outputs": [
    {
     "data": {
      "text/plain": [
       "[[1, 2], [3, 4]]"
      ]
     },
     "execution_count": 3,
     "metadata": {},
     "output_type": "execute_result"
    }
   ],
   "source": [
    "s1 = Solution()\n",
    "s1.construct2DArray([1,2,3,4],2,2)"
   ]
  },
  {
   "cell_type": "code",
   "execution_count": null,
   "id": "52c0db4a-e437-4730-833b-d7b87d6d934b",
   "metadata": {},
   "outputs": [],
   "source": [
    "q2"
   ]
  },
  {
   "cell_type": "code",
   "execution_count": 6,
   "id": "9941a2ce-929c-413a-8a8c-9c2f77d0b827",
   "metadata": {},
   "outputs": [],
   "source": [
    "import math\n",
    "class Solution2:\n",
    "    def arrangeCoins(self, n: int) -> int:\n",
    "        return int(math.sqrt(2) * math.sqrt(n + 0.125) - 0.5)"
   ]
  },
  {
   "cell_type": "code",
   "execution_count": 7,
   "id": "d4cd6139-2efb-4ace-bcd0-e4f3cc989717",
   "metadata": {},
   "outputs": [
    {
     "data": {
      "text/plain": [
       "2"
      ]
     },
     "execution_count": 7,
     "metadata": {},
     "output_type": "execute_result"
    }
   ],
   "source": [
    "s2 = Solution2()\n",
    "s2.arrangeCoins(5)"
   ]
  },
  {
   "cell_type": "code",
   "execution_count": 8,
   "id": "9743bef9-056f-4539-ab65-633e37e5652a",
   "metadata": {},
   "outputs": [],
   "source": [
    "class Solution3:\n",
    "    def sortedSquares(self, nums: list[int]) -> list[int]:\n",
    "        n = len(nums)\n",
    "        res = [0] * n\n",
    "        i, j, k = 0, n - 1, n - 1\n",
    "        while i <= j:\n",
    "            if nums[i] * nums[i] > nums[j] * nums[j]:\n",
    "                res[k] = nums[i] * nums[i]\n",
    "                i += 1\n",
    "            else:\n",
    "                res[k] = nums[j] * nums[j]\n",
    "                j -= 1\n",
    "            k -= 1\n",
    "        return res"
   ]
  },
  {
   "cell_type": "code",
   "execution_count": 10,
   "id": "1e6140f7-9e72-4ba4-a8f2-4220eacd1cb1",
   "metadata": {},
   "outputs": [
    {
     "data": {
      "text/plain": [
       "[0, 1, 9, 16, 100]"
      ]
     },
     "execution_count": 10,
     "metadata": {},
     "output_type": "execute_result"
    }
   ],
   "source": [
    "s3 = Solution3()\n",
    "s3.sortedSquares([-4,-1,0,3,10])"
   ]
  },
  {
   "cell_type": "code",
   "execution_count": 11,
   "id": "654a8cb4-77b7-49e3-9cf9-d010feafea77",
   "metadata": {},
   "outputs": [],
   "source": [
    "class Solution4:\n",
    "    def findDifference(self, nums1: list[int], nums2: list[int]) -> list[list[int]]:\n",
    "        s1, s2 = set(nums1), set(nums2)\n",
    "        return [list(s1 - s2), list(s2 - s1)]"
   ]
  },
  {
   "cell_type": "code",
   "execution_count": 12,
   "id": "d4cce392-6066-4436-849d-888cf1b48462",
   "metadata": {},
   "outputs": [
    {
     "data": {
      "text/plain": [
       "[[1, 3], [4, 6]]"
      ]
     },
     "execution_count": 12,
     "metadata": {},
     "output_type": "execute_result"
    }
   ],
   "source": [
    "s4 = Solution4()\n",
    "s4.findDifference([1,2,3],[2,4,6])"
   ]
  },
  {
   "cell_type": "code",
   "execution_count": 17,
   "id": "7d17876a-bc7d-43a4-8bf8-4fd41dd7b46a",
   "metadata": {},
   "outputs": [],
   "source": [
    "import bisect\n",
    "class Solution5:\n",
    "    def findTheDistanceValue(self, arr1: list[int], arr2: list[int], d: int) -> int:\n",
    "        def check(a: int) -> bool:\n",
    "            i = bisect.bisect_left(arr2, a - d)\n",
    "            return i == len(arr2) or arr2[i] > a + d\n",
    "\n",
    "        arr2.sort()\n",
    "        return sum(check(a) for a in arr1)"
   ]
  },
  {
   "cell_type": "code",
   "execution_count": 18,
   "id": "5627c5ab-21ed-41a6-b5e4-1776445a6ed4",
   "metadata": {},
   "outputs": [
    {
     "data": {
      "text/plain": [
       "2"
      ]
     },
     "execution_count": 18,
     "metadata": {},
     "output_type": "execute_result"
    }
   ],
   "source": [
    "s5= Solution5()\n",
    "s5.findTheDistanceValue([4,5,8],[10,9,1,8],2)"
   ]
  },
  {
   "cell_type": "code",
   "execution_count": 20,
   "id": "ae94ff97-6f4b-43cb-b767-6862a150c177",
   "metadata": {},
   "outputs": [],
   "source": [
    "class Solution6:\n",
    "    def findDuplicates(self, nums: list[int]) -> list[int]:\n",
    "        for i in range(len(nums)):\n",
    "            while nums[i] != nums[nums[i] - 1]:\n",
    "                nums[nums[i] - 1], nums[i] = nums[i], nums[nums[i] - 1]\n",
    "        return [v for i, v in enumerate(nums) if v != i + 1]"
   ]
  },
  {
   "cell_type": "code",
   "execution_count": 21,
   "id": "93d9b6e7-07f7-4fb6-926c-9f3fdde7ec27",
   "metadata": {},
   "outputs": [
    {
     "data": {
      "text/plain": [
       "[3, 2]"
      ]
     },
     "execution_count": 21,
     "metadata": {},
     "output_type": "execute_result"
    }
   ],
   "source": [
    "s6= Solution6()\n",
    "s6.findDuplicates([4,3,2,7,8,2,3,1])"
   ]
  },
  {
   "cell_type": "code",
   "execution_count": 23,
   "id": "212772e6-3919-4db1-b698-c45fe24fc775",
   "metadata": {},
   "outputs": [],
   "source": [
    "class Solution7:\n",
    "    def findMin(self, nums: list[int]) -> int:\n",
    "        if nums[0] <= nums[-1]:\n",
    "            return nums[0]\n",
    "        left, right = 0, len(nums) - 1\n",
    "        while left < right:\n",
    "            mid = (left + right) >> 1\n",
    "            if nums[0] <= nums[mid]:\n",
    "                left = mid + 1\n",
    "            else:\n",
    "                right = mid\n",
    "        return nums[left]"
   ]
  },
  {
   "cell_type": "code",
   "execution_count": 24,
   "id": "451b50a4-a074-4c92-8f27-4008cf5222b3",
   "metadata": {},
   "outputs": [
    {
     "data": {
      "text/plain": [
       "1"
      ]
     },
     "execution_count": 24,
     "metadata": {},
     "output_type": "execute_result"
    }
   ],
   "source": [
    "s7= Solution7()\n",
    "s7.findMin([3,4,5,1,2])"
   ]
  },
  {
   "cell_type": "code",
   "execution_count": 28,
   "id": "0bb5f9e5-2bb8-486b-8a4c-6fa391b9a37e",
   "metadata": {},
   "outputs": [],
   "source": [
    "from collections import Counter\n",
    "class Solution8:\n",
    "    def findOriginalArray(self, changed: list[int]) -> list[int]:\n",
    "        n = len(changed)\n",
    "        if n & 1:\n",
    "            return []\n",
    "        cnt = Counter(changed)\n",
    "        changed.sort()\n",
    "        ans = []\n",
    "        for x in changed:\n",
    "            if cnt[x] == 0:\n",
    "                continue\n",
    "            if cnt[x * 2] <= 0:\n",
    "                return []\n",
    "            ans.append(x)\n",
    "            cnt[x] -= 1\n",
    "            cnt[x * 2] -= 1\n",
    "        return ans if len(ans) == n // 2 else []"
   ]
  },
  {
   "cell_type": "code",
   "execution_count": 29,
   "id": "69cba725-7f79-4c6c-b138-017795fc0ebd",
   "metadata": {},
   "outputs": [
    {
     "data": {
      "text/plain": [
       "[1, 3, 4]"
      ]
     },
     "execution_count": 29,
     "metadata": {},
     "output_type": "execute_result"
    }
   ],
   "source": [
    "s8= Solution8()\n",
    "s8.findOriginalArray([1,3,4,2,6,8])"
   ]
  },
  {
   "cell_type": "code",
   "execution_count": null,
   "id": "8bc5f29f-0c0d-49ad-a1c9-83ef99e6e6e8",
   "metadata": {},
   "outputs": [],
   "source": []
  }
 ],
 "metadata": {
  "kernelspec": {
   "display_name": "Python 3 (ipykernel)",
   "language": "python",
   "name": "python3"
  },
  "language_info": {
   "codemirror_mode": {
    "name": "ipython",
    "version": 3
   },
   "file_extension": ".py",
   "mimetype": "text/x-python",
   "name": "python",
   "nbconvert_exporter": "python",
   "pygments_lexer": "ipython3",
   "version": "3.10.6"
  }
 },
 "nbformat": 4,
 "nbformat_minor": 5
}
