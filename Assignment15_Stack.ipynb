{
 "cells": [
  {
   "cell_type": "code",
   "execution_count": 7,
   "id": "1e492a90-378d-4e48-979c-3d6fde7c2b5c",
   "metadata": {},
   "outputs": [],
   "source": [
    "class Solution:\n",
    "    def nextGreaterElements(self, n:int , nums: list[int]) -> list[int]:\n",
    "        ans = [-1] * n\n",
    "        stk = []\n",
    "        for i in range(n << 1):\n",
    "            while stk and nums[stk[-1]] < nums[i % n]:\n",
    "                ans[stk.pop()] = nums[i % n]\n",
    "            stk.append(i % n)\n",
    "        return ans"
   ]
  },
  {
   "cell_type": "code",
   "execution_count": 9,
   "id": "8e6a5eec-03cc-40e0-9ea3-e9c0539dae14",
   "metadata": {},
   "outputs": [
    {
     "data": {
      "text/plain": [
       "[3, 4, 4, -1]"
      ]
     },
     "execution_count": 9,
     "metadata": {},
     "output_type": "execute_result"
    }
   ],
   "source": [
    "s1 = Solution()\n",
    "s1.nextGreaterElements(4,[1,3,2,4])"
   ]
  },
  {
   "cell_type": "code",
   "execution_count": 9,
   "id": "80d04f67-3a00-4e5a-b686-331650c3c84a",
   "metadata": {},
   "outputs": [
    {
     "name": "stdout",
     "output_type": "stream",
     "text": [
      "[-1, 1, 1]\n"
     ]
    }
   ],
   "source": [
    "class Stack:\n",
    "    def __init__(self):\n",
    "        self.stack = []\n",
    "\n",
    "    def isEmpty(self):\n",
    "        return len(self.stack) == 0\n",
    "\n",
    "    def push(self, num):\n",
    "        self.stack.append(num)\n",
    "\n",
    "    def pop(self):\n",
    "        if self.isEmpty():\n",
    "            raise Exception('Stack Underflow')\n",
    "        return self.stack.pop()\n",
    "\n",
    "    def peek(self):\n",
    "        if self.isEmpty():\n",
    "            return None\n",
    "        return self.stack[-1]\n",
    "\n",
    "def nearestSmallerToLeft(arr):\n",
    "    stack = Stack()\n",
    "    result = []\n",
    "\n",
    "    for i in range(0, len(arr)):\n",
    "        if stack.isEmpty():\n",
    "            result.append(-1)\n",
    "            stack.push(arr[i])\n",
    "        elif not stack.isEmpty():\n",
    "            while(not stack.isEmpty() and arr[i] < stack.peek()):\n",
    "                stack.pop()\n",
    "            if stack.isEmpty():\n",
    "                result.append(-1)\n",
    "            else:\n",
    "                result.append(stack.peek())\n",
    "            stack.push(arr[i])\n",
    "        \n",
    "    return result\n",
    "\n",
    "arr = [1,6,2]\n",
    "print(nearestSmallerToLeft(arr))"
   ]
  },
  {
   "cell_type": "code",
   "execution_count": 37,
   "id": "ba64de5c-8f94-4a17-abc9-541a9f983745",
   "metadata": {},
   "outputs": [],
   "source": [
    "from queue import Queue\n",
    "class MyStack(object):\n",
    "    def __init__(self):\n",
    "        self.q1, self.q2 = Queue(), Queue()\n",
    "        return\n",
    "\n",
    "    def push(self, x):\n",
    "        self.q1.put(x)\n",
    "        return\n",
    "\n",
    "    def pop(self):\n",
    "        while self.q1.qsize() > 1:\n",
    "            x = self.q1.get()\n",
    "            self.q2.put(x)\n",
    "        if self.q1.qsize() == 1:\n",
    "            result = self.q1.get()\n",
    "            self.q1, self.q2 = self.q2, self.q1\n",
    "            return result\n",
    "        \n",
    "\n",
    "    def top(self):\n",
    "        while self.q1.qsize() > 1:\n",
    "            x = self.q1.get()\n",
    "            self.q2.put(x)\n",
    "        if self.q1.qsize() == 1:\n",
    "            result = self.q1.get()\n",
    "            self.q2.put(result)\n",
    "            self.q1, self.q2 = self.q2, self.q1\n",
    "            return result        \n",
    "\n",
    "    def empty(self):\n",
    "        return not bool(self.q1.qsize() + self.q2.qsize())"
   ]
  },
  {
   "cell_type": "code",
   "execution_count": 40,
   "id": "6ed054e9-3364-4b95-bffa-ebf848e0a1aa",
   "metadata": {},
   "outputs": [
    {
     "data": {
      "text/plain": [
       "2"
      ]
     },
     "execution_count": 40,
     "metadata": {},
     "output_type": "execute_result"
    }
   ],
   "source": [
    "s1=MyStack()\n",
    "s1.push(2)\n",
    "s1.push(3)\n",
    "s1.pop()\n",
    "s1.push(4)\n",
    "s1.pop()\n",
    "s1.top()"
   ]
  },
  {
   "cell_type": "code",
   "execution_count": 42,
   "id": "9060352a-b7c4-4bde-883c-c1f9a1a906c3",
   "metadata": {},
   "outputs": [
    {
     "name": "stdout",
     "output_type": "stream",
     "text": [
      "Original stack is deque([3, 2, 1, 7, 6])\n",
      "Reversed stack is deque([6, 7, 1, 2, 3])\n"
     ]
    }
   ],
   "source": [
    "from collections import deque\n",
    " \n",
    " \n",
    "\n",
    "def insertAtBottom(s, item):\n",
    "    if not s:\n",
    "        s.append(item)\n",
    "        return\n",
    "    top = s.pop()\n",
    "    insertAtBottom(s, item)\n",
    "    s.append(top)\n",
    " \n",
    " \n",
    "\n",
    "def reverseStack(s):\n",
    " \n",
    "    if not s:\n",
    "        return\n",
    "    item = s.pop()\n",
    "    reverseStack(s)\n",
    "    insertAtBottom(s, item)\n",
    " \n",
    " \n",
    "if __name__ == '__main__':\n",
    " \n",
    "    s = deque([3,2,1,7,6])\n",
    "    print('Original stack is', s)\n",
    "    reverseStack(s)\n",
    "    print('Reversed stack is', s)"
   ]
  },
  {
   "cell_type": "code",
   "execution_count": 44,
   "id": "6bd52db6-75dc-4719-b70d-db40416d24b9",
   "metadata": {},
   "outputs": [
    {
     "name": "stdout",
     "output_type": "stream",
     "text": [
      "skeeGrofskeeG\n"
     ]
    }
   ],
   "source": [
    "from collections import deque\n",
    " \n",
    " \n",
    "def reverse(s):\n",
    "    stack = deque(s)\n",
    "    return ''.join(stack.pop() for _ in range(len(s)))\n",
    " \n",
    " \n",
    "if __name__ == '__main__':\n",
    " \n",
    "    s = 'GeeksforGeeks'\n",
    "    s = reverse(s)\n",
    "    print(s)"
   ]
  },
  {
   "cell_type": "code",
   "execution_count": 46,
   "id": "be861a0d-89c1-4d3b-8e1f-9dae778fd233",
   "metadata": {},
   "outputs": [
    {
     "name": "stdout",
     "output_type": "stream",
     "text": [
      "-4\n"
     ]
    }
   ],
   "source": [
    "\n",
    "from collections import deque\n",
    " \n",
    " \n",
    "def evalPostfix(exp):\n",
    " \n",
    "    # base case\n",
    "    if not exp:\n",
    "        exit(-1)\n",
    " \n",
    "  \n",
    "    stack = deque()\n",
    " \n",
    "    \n",
    "    for ch in exp:\n",
    " \n",
    "      \n",
    "        if ch.isdigit():\n",
    "            stack.append(int(ch))\n",
    " \n",
    "      \n",
    "        else:\n",
    "          \n",
    "            x = stack.pop()\n",
    "            y = stack.pop()\n",
    " \n",
    "            \n",
    "            if ch == '+':\n",
    "                stack.append(y + x)\n",
    "            elif ch == '-':\n",
    "                stack.append(y - x)\n",
    "            elif ch == '*':\n",
    "                stack.append(y * x)\n",
    "            elif ch == '/':\n",
    "                stack.append(y // x)\n",
    " \n",
    "    return stack.pop()\n",
    " \n",
    " \n",
    "if __name__ == '__main__':\n",
    " \n",
    "    exp = '231*+9-'\n",
    "    print(evalPostfix(exp))\n",
    " "
   ]
  },
  {
   "cell_type": "code",
   "execution_count": 71,
   "id": "40dbe72c-eb23-4142-8420-93faf7cbb7e6",
   "metadata": {},
   "outputs": [
    {
     "name": "stdout",
     "output_type": "stream",
     "text": [
      "-3\n",
      "0\n",
      "-2\n"
     ]
    }
   ],
   "source": [
    "from collections import deque\n",
    " \n",
    " \n",
    "class MinStack:\n",
    "    # constructor\n",
    "    def __init__(self):\n",
    "        # main stack to store elements\n",
    "        self.s = deque()\n",
    "        # auxiliary stack to store minimum elements\n",
    "        self.aux = deque()\n",
    " \n",
    "    # Inserts a given element on top of the stack\n",
    "    def push(self, val):\n",
    "        # push the given element into the main stack\n",
    "        self.s.append(val)\n",
    " \n",
    "        # if the auxiliary stack is empty, push the given element into it\n",
    "        if not self.aux:\n",
    "            self.aux.append(val)\n",
    "        else:\n",
    "            # push the given element into the auxiliary stack\n",
    "            # if it is less than or equal to the current minimum\n",
    "            if self.aux[-1] >= val:\n",
    "                self.aux.append(val)\n",
    " \n",
    "    # Removes the top element from the stack and returns it\n",
    "    def pop(self):\n",
    "        if self.isEmpty():\n",
    "            print('Stack underflow')\n",
    "            exit(-1)\n",
    " \n",
    "        # remove the top element from the main stack\n",
    "        top = self.s.pop()\n",
    " \n",
    "        # remove the top element from the auxiliary stack\n",
    "        # only if it is minimum\n",
    "        if top == self.aux[-1]:\n",
    "            self.aux.pop()\n",
    " \n",
    "        # return the removed element\n",
    "        return top\n",
    " \n",
    "    # Returns the top element of the stack\n",
    "    def top(self):\n",
    "        return self.s[-1]\n",
    " \n",
    "    # Returns the total number of elements in the stack\n",
    "    def size(self):\n",
    "        return len(self.s)\n",
    " \n",
    "    # Returns true if the stack is empty; false otherwise\n",
    "    def isEmpty(self):\n",
    "        return not self.s\n",
    " \n",
    "    # Returns the minimum element from the stack in constant time\n",
    "    def getMin(self):\n",
    "        if not self.aux:\n",
    "            print('Stack underflow')\n",
    "            exit(-1)\n",
    "        return self.aux[-1]\n",
    " \n",
    " \n",
    "if __name__ == '__main__':\n",
    " \n",
    "    s = MinStack()\n",
    " \n",
    "    s.push(-2)\n",
    " \n",
    "    s.push(0)\n",
    " \n",
    "    s.push(-3)    \n",
    " \n",
    "    print(s.getMin())        \n",
    "    s.pop()      \n",
    "    print(s.top())        \n",
    "    print(s.getMin())     \n",
    " "
   ]
  },
  {
   "cell_type": "code",
   "execution_count": 75,
   "id": "7fb0d212-1fc1-45db-911a-2ec4936609ad",
   "metadata": {},
   "outputs": [],
   "source": [
    "class Solution8:\n",
    "    def trap(self, height: list[int]) -> int:\n",
    "        n = len(height)\n",
    "        left = [height[0]] * n\n",
    "        right = [height[-1]] * n\n",
    "        for i in range(1, n):\n",
    "            left[i] = max(left[i - 1], height[i])\n",
    "            right[n - i - 1] = max(right[n - i], height[n - i - 1])\n",
    "        return sum(min(l, r) - h for l, r, h in zip(left, right, height))"
   ]
  },
  {
   "cell_type": "code",
   "execution_count": 76,
   "id": "dd971e4c-b90b-4d12-b9a3-825f5e8dd090",
   "metadata": {},
   "outputs": [
    {
     "data": {
      "text/plain": [
       "9"
      ]
     },
     "execution_count": 76,
     "metadata": {},
     "output_type": "execute_result"
    }
   ],
   "source": [
    "s8 = Solution8()\n",
    "s8.trap([4,2,0,3,2,5])"
   ]
  },
  {
   "cell_type": "code",
   "execution_count": null,
   "id": "c4de395b-be2f-4554-b402-896cdc8e7e42",
   "metadata": {},
   "outputs": [],
   "source": []
  }
 ],
 "metadata": {
  "kernelspec": {
   "display_name": "Python 3 (ipykernel)",
   "language": "python",
   "name": "python3"
  },
  "language_info": {
   "codemirror_mode": {
    "name": "ipython",
    "version": 3
   },
   "file_extension": ".py",
   "mimetype": "text/x-python",
   "name": "python",
   "nbconvert_exporter": "python",
   "pygments_lexer": "ipython3",
   "version": "3.10.6"
  }
 },
 "nbformat": 4,
 "nbformat_minor": 5
}
