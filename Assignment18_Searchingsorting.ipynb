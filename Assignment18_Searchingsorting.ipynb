{
 "cells": [
  {
   "cell_type": "code",
   "execution_count": 2,
   "id": "65197fc8-7928-4159-9e65-1547a7a254de",
   "metadata": {},
   "outputs": [],
   "source": [
    "class Solution:\n",
    "    def merge(self, intervals: list[list[int]]) -> list[list[int]]:\n",
    "        intervals.sort()\n",
    "        ans = []\n",
    "        st, ed = intervals[0]\n",
    "        for s, e in intervals[1:]:\n",
    "            if ed < s:\n",
    "                ans.append([st, ed])\n",
    "                st, ed = s, e\n",
    "            else:\n",
    "                ed = max(ed, e)\n",
    "        ans.append([st, ed])\n",
    "        return ans"
   ]
  },
  {
   "cell_type": "code",
   "execution_count": 4,
   "id": "91cd9d3e-1e30-4a04-ab65-c4b56dbd51ac",
   "metadata": {},
   "outputs": [
    {
     "data": {
      "text/plain": [
       "[[1, 6], [8, 10], [15, 18]]"
      ]
     },
     "execution_count": 4,
     "metadata": {},
     "output_type": "execute_result"
    }
   ],
   "source": [
    "s1=Solution()\n",
    "s1.merge([[1,3],[2,6],[8,10],[15,18]])"
   ]
  },
  {
   "cell_type": "code",
   "execution_count": 19,
   "id": "82e8948d-b1bd-4b73-b0ea-786bd53f6932",
   "metadata": {},
   "outputs": [],
   "source": [
    "class Solution2:\n",
    "    def sortColors(self, nums: list[int]) -> None:\n",
    "        i, j, k = -1, len(nums), 0\n",
    "        while k < j:\n",
    "            if nums[k] == 0:\n",
    "                i += 1\n",
    "                nums[i], nums[k] = nums[k], nums[i]\n",
    "                k += 1\n",
    "            elif nums[k] == 2:\n",
    "                j -= 1\n",
    "                nums[j], nums[k] = nums[k], nums[j]\n",
    "            else:\n",
    "                k += 1\n",
    "        return nums"
   ]
  },
  {
   "cell_type": "code",
   "execution_count": 20,
   "id": "f04203ed-2bb4-4b60-88b1-1bfabec3546b",
   "metadata": {},
   "outputs": [
    {
     "name": "stdout",
     "output_type": "stream",
     "text": [
      "[0, 0, 1, 1, 2, 2]\n"
     ]
    }
   ],
   "source": [
    "s2=Solution2()\n",
    "print(s2.sortColors([2,0,2,1,1,0]))"
   ]
  },
  {
   "cell_type": "code",
   "execution_count": 25,
   "id": "209c38da-6129-4b10-b11f-6bed4a22db64",
   "metadata": {},
   "outputs": [
    {
     "name": "stdout",
     "output_type": "stream",
     "text": [
      "4\n"
     ]
    }
   ],
   "source": [
    "first_bad = 0\n",
    "def isBadVersion(version):\n",
    "    if version >= first_bad:\n",
    "        return True\n",
    "    return False\n",
    "class Solution:\n",
    "       def firstBadVersion(self, n):\n",
    "            if n <2:\n",
    "                return n\n",
    "            start = 1\n",
    "            end = n\n",
    "            while(start<=end):\n",
    "                mid = (start+end)//2\n",
    "                if isBadVersion(mid) and not isBadVersion(mid-1):\n",
    "                    return mid\n",
    "                elif isBadVersion(mid-1):\n",
    "                    end = mid-1\n",
    "                else:\n",
    "                    start = mid+1\n",
    "ob1 = Solution()\n",
    "first_bad = 4\n",
    "op = ob1.firstBadVersion(5)\n",
    "print(op)"
   ]
  },
  {
   "cell_type": "code",
   "execution_count": 30,
   "id": "63593fec-ac76-49e6-8d56-629aa8e8eabf",
   "metadata": {},
   "outputs": [],
   "source": [
    "class Solution4:\n",
    "    def maximumGap(self, nums: list[int]) -> int:\n",
    "        n = len(nums)\n",
    "        if n < 2:\n",
    "            return 0\n",
    "        mi, mx = min(nums), max(nums)\n",
    "        bucket_size = max(1, (mx - mi) // (n - 1))\n",
    "        bucket_count = (mx - mi) // bucket_size + 1\n",
    "        buckets = [[float('inf'), float('-inf')] for _ in range(bucket_count)]\n",
    "        for v in nums:\n",
    "            i = (v - mi) // bucket_size\n",
    "            buckets[i][0] = min(buckets[i][0], v)\n",
    "            buckets[i][1] = max(buckets[i][1], v)\n",
    "        ans = 0\n",
    "        prev = float('inf')\n",
    "        for curmin, curmax in buckets:\n",
    "            if curmin > curmax:\n",
    "                continue\n",
    "            ans = max(ans, curmin - prev)\n",
    "            prev = curmax\n",
    "        return ans"
   ]
  },
  {
   "cell_type": "code",
   "execution_count": 32,
   "id": "ad80e031-8f9f-4679-947b-1cd781059ecf",
   "metadata": {},
   "outputs": [
    {
     "data": {
      "text/plain": [
       "0"
      ]
     },
     "execution_count": 32,
     "metadata": {},
     "output_type": "execute_result"
    }
   ],
   "source": [
    "s4=Solution4()\n",
    "s4.maximumGap([10])"
   ]
  },
  {
   "cell_type": "code",
   "execution_count": 33,
   "id": "ed3c1a19-dd65-4429-907c-3b1303f1482d",
   "metadata": {},
   "outputs": [],
   "source": [
    "class Solution5:\n",
    "    def containsDuplicate(self, nums: list[int]) -> bool:\n",
    "        return len(set(nums)) < len(nums)"
   ]
  },
  {
   "cell_type": "code",
   "execution_count": 35,
   "id": "bb9a0570-6a6f-487e-8811-3d1551264050",
   "metadata": {},
   "outputs": [
    {
     "data": {
      "text/plain": [
       "False"
      ]
     },
     "execution_count": 35,
     "metadata": {},
     "output_type": "execute_result"
    }
   ],
   "source": [
    "s5=Solution5()\n",
    "s5.containsDuplicate([1,2,3,4])"
   ]
  },
  {
   "cell_type": "code",
   "execution_count": 39,
   "id": "2aa0dbec-b4f0-45f4-bb30-fe8f83a499aa",
   "metadata": {},
   "outputs": [],
   "source": [
    "class Solution6:\n",
    "    def findMinArrowShots(self, points: list[list[int]]) -> int:\n",
    "        ans, last = 0, float('-inf')\n",
    "        for a, b in sorted(points, key=lambda x: x[1]):\n",
    "            if a > last:\n",
    "                ans += 1\n",
    "                last = b\n",
    "        return ans"
   ]
  },
  {
   "cell_type": "code",
   "execution_count": 41,
   "id": "41704865-b803-4fb1-8b8e-5871a864c4c6",
   "metadata": {},
   "outputs": [
    {
     "data": {
      "text/plain": [
       "4"
      ]
     },
     "execution_count": 41,
     "metadata": {},
     "output_type": "execute_result"
    }
   ],
   "source": [
    "s6=Solution6()\n",
    "s6.findMinArrowShots([[1,2],[3,4],[5,6],[7,8]])"
   ]
  },
  {
   "cell_type": "code",
   "execution_count": 42,
   "id": "3463e241-7b10-438c-afbd-2a8a190a0d50",
   "metadata": {},
   "outputs": [],
   "source": [
    "class Solution7:\n",
    "    def findNumberOfLIS(self, nums: list[int]) -> int:\n",
    "        maxLen, ans, n = 0, 0, len(nums)\n",
    "        dp, cnt = [1] * n, [1] * n\n",
    "        for i in range(n):\n",
    "            for j in range(i):\n",
    "                if nums[i] > nums[j]:\n",
    "                    if dp[j] + 1 > dp[i]:\n",
    "                        dp[i] = dp[j] + 1\n",
    "                        cnt[i] = cnt[j]\n",
    "                    elif dp[j] + 1 == dp[i]:\n",
    "                        cnt[i] += cnt[j]\n",
    "            if dp[i] > maxLen:\n",
    "                maxLen = dp[i]\n",
    "                ans = cnt[i]\n",
    "            elif dp[i] == maxLen:\n",
    "                ans += cnt[i]\n",
    "        return ans"
   ]
  },
  {
   "cell_type": "code",
   "execution_count": 43,
   "id": "0c246e31-722e-402d-a1c4-0265fad03d04",
   "metadata": {},
   "outputs": [
    {
     "data": {
      "text/plain": [
       "4"
      ]
     },
     "execution_count": 43,
     "metadata": {},
     "output_type": "execute_result"
    }
   ],
   "source": [
    "s7=Solution7()\n",
    "s7.findNumberOfLIS([10,9,2,5,3,7,101,18])"
   ]
  },
  {
   "cell_type": "code",
   "execution_count": null,
   "id": "ffb8b9b2-77f5-4958-92f0-0a20076359fb",
   "metadata": {},
   "outputs": [],
   "source": []
  }
 ],
 "metadata": {
  "kernelspec": {
   "display_name": "Python 3 (ipykernel)",
   "language": "python",
   "name": "python3"
  },
  "language_info": {
   "codemirror_mode": {
    "name": "ipython",
    "version": 3
   },
   "file_extension": ".py",
   "mimetype": "text/x-python",
   "name": "python",
   "nbconvert_exporter": "python",
   "pygments_lexer": "ipython3",
   "version": "3.10.6"
  }
 },
 "nbformat": 4,
 "nbformat_minor": 5
}
